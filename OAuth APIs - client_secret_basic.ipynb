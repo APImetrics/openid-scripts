{
 "cells": [
  {
   "cell_type": "markdown",
   "metadata": {},
   "source": [
    "# Set up OAuth APIs with client_secret_basic auth\n",
    "Running this script will create the APIs so we can sign JWTs and use the private_key_jwt authorization methods\n",
    "\n",
    "## Requirements\n",
    "1. Create an APImetrics Project\n",
    "1. Get an API key with EDITOR permissions for the project, enter it below\n",
    "1. Run this workbook to create all Auth Settings, APIs and Workflows for Sign-in flow\n",
    "1. Set environment variables:\n",
    "    1. kid_cert_version - this is the numeric ID internal to APImetrics for your signing key\n",
    "    1. kid - this is your signing certs real key ID (as per JWKS)\n",
    "    1. client_id - this is your client_id \n",
    "    1. issuer - this is the issuer for your JWTs\n",
    "    1. redirect_uri - this is your redirect_uri for OAuth\n",
    "    \n",
    "NB: Until we publish the API call conditions API, those need to be added manually from the conditions tab"
   ]
  },
  {
   "cell_type": "code",
   "execution_count": 1,
   "metadata": {},
   "outputs": [
    {
     "name": "stdout",
     "output_type": "stream",
     "text": [
      "Enter your APImetrics API key for the intended project: H5QtkH5FQCCxOhtRSA50PhYjHNWfvf1J\n"
     ]
    }
   ],
   "source": [
    "# Enter intended project's APImetrics API key here:\n",
    "API_KEY = input(\"Enter your APImetrics API key for the intended project: \")"
   ]
  },
  {
   "cell_type": "code",
   "execution_count": 19,
   "metadata": {},
   "outputs": [
    {
     "name": "stdout",
     "output_type": "stream",
     "text": [
      "Enter your .well-known JSON here: {   \"version\": \"3.1.2\",   \"issuer\": \"https://as.aspsp.ob.forgerock.financial/oauth2\",   \"authorization_endpoint\": \"https://as.aspsp.ob.forgerock.financial/oauth2/authorize\",   \"token_endpoint\": \"https://matls.as.aspsp.ob.forgerock.financial/oauth2/access_token\",   \"userinfo_endpoint\": \"https://matls.as.aspsp.ob.forgerock.financial/oauth2/userinfo\",   \"introspection_endpoint\": \"https://matls.as.aspsp.ob.forgerock.financial/oauth2/introspect\",   \"jwks_uri\": \"https://as.aspsp.ob.forgerock.financial/api/jwk/jwk_uri\",   \"registration_endpoint\": \"https://matls.as.aspsp.ob.forgerock.financial/open-banking/register/\",   \"scopes_supported\": [     \"openid\",     \"payments\",     \"fundsconfirmations\",     \"accounts\"   ],   \"response_types_supported\": [     \"code token id_token\",     \"code\",     \"code id_token\",     \"device_code\",     \"id_token\",     \"code token\",     \"token\",     \"token id_token\"   ],   \"grant_types_supported\": [     \"refresh_token\",     \"client_credentials\",     \"authorization_code\"   ],   \"acr_values_supported\": [     \"urn:openbanking:psd2:sca\",     \"urn:openbanking:psd2:ca\"   ],   \"subject_types_supported\": [     \"public\",     \"pairwise\"   ],   \"id_token_signing_alg_values_supported\": [     \"RS256\",     \"PS256\"   ],   \"id_token_encryption_alg_values_supported\": [     \"RSA-OAEP\",     \"RSA-OAEP-256\",     \"A128KW\",     \"A256KW\",     \"RSA1_5\",     \"dir\",     \"A192KW\"   ],   \"id_token_encryption_enc_values_supported\": [     \"A256GCM\",     \"A192GCM\",     \"A128GCM\",     \"A128CBC-HS256\",     \"A192CBC-HS384\",     \"A256CBC-HS512\"   ],   \"userinfo_signing_alg_values_supported\": [     \"ES384\",     \"HS256\",     \"HS512\",     \"ES256\",     \"RS256\",     \"HS384\",     \"ES512\"   ],   \"userinfo_encryption_alg_values_supported\": [     \"RSA-OAEP\",     \"RSA-OAEP-256\",     \"A128KW\",     \"A256KW\",     \"RSA1_5\",     \"dir\",     \"A192KW\"   ],   \"userinfo_encryption_enc_values_supported\": [     \"A256GCM\",     \"A192GCM\",     \"A128GCM\",     \"A128CBC-HS256\",     \"A192CBC-HS384\",     \"A256CBC-HS512\"   ],   \"request_object_signing_alg_values_supported\": [     \"RS256\",     \"PS256\"   ],   \"request_object_encryption_alg_values_supported\": [     \"RSA-OAEP\",     \"RSA-OAEP-256\",     \"A128KW\",     \"RSA1_5\",     \"A256KW\",     \"dir\",     \"A192KW\"   ],   \"request_object_encryption_enc_values_supported\": [     \"A256GCM\",     \"A192GCM\",     \"A128GCM\",     \"A128CBC-HS256\",     \"A192CBC-HS384\",     \"A256CBC-HS512\"   ],   \"token_endpoint_auth_methods_supported\": [     \"client_secret_post\",     \"private_key_jwt\",     \"client_secret_basic\",     \"tls_client_auth\"   ],   \"token_endpoint_auth_signing_alg_values_supported\": [     \"RS256\",     \"PS256\"   ],   \"claims_supported\": [     \"acr\",     \"zoneinfo\",     \"openbanking_intent_id\",     \"address\",     \"profile\",     \"name\",     \"phone_number\",     \"given_name\",     \"locale\",     \"family_name\",     \"email\"   ],   \"claims_parameter_supported\": true,   \"request_parameter_supported\": true,   \"request_uri_parameter_supported\": true,   \"require_request_uri_registration\": true }\n"
     ]
    }
   ],
   "source": [
    "import json\n",
    "# Put your .well-known JSON here\n",
    "true = True # to make copy-pasteing easier \n",
    "false = False # to make copy-pasteing easier \n",
    "WELL_KNOWN = None\n",
    "if not WELL_KNOWN:\n",
    "    WELL_KNOWN = json.loads(input(\"Enter your .well-known JSON here: \"))"
   ]
  },
  {
   "cell_type": "code",
   "execution_count": 20,
   "metadata": {},
   "outputs": [
    {
     "name": "stdout",
     "output_type": "stream",
     "text": [
      "Enter the scopes you wish to use (except openid, we'll add that automatically): accounts\n",
      "Using scopes openid accounts\n"
     ]
    }
   ],
   "source": [
    "# Enter your intended scope for your tokens\n",
    "scopes_in = input(\"Enter the scopes you wish to use (except openid, we'll add that automatically): \")\n",
    "scopes = ['openid'] + [scope.strip() for scope in scopes_in.split(' ')]\n",
    "for scope in scopes:\n",
    "    assert scope in WELL_KNOWN['scopes_supported'], f\"Scope {scope} is not supported according to .well-known\"\n",
    "SCOPES = \" \".join(scopes)\n",
    "print(f\"Using scopes {SCOPES}\")"
   ]
  },
  {
   "cell_type": "code",
   "execution_count": 21,
   "metadata": {},
   "outputs": [],
   "source": [
    "assert 'client_secret_basic' in WELL_KNOWN['token_endpoint_auth_methods_supported'], 'This script is for private_key_jwt but your well-known does not claim that it is supported'\n",
    "\n",
    "# We now extract the values we need (or you can override it)\n",
    "AUTHORIZATION_URL = WELL_KNOWN['authorization_endpoint']\n",
    "ACCESS_TOKEN_URL = WELL_KNOWN['token_endpoint']"
   ]
  },
  {
   "cell_type": "code",
   "execution_count": 22,
   "metadata": {},
   "outputs": [],
   "source": [
    "# Helper functions\n",
    "import requests\n",
    "import json\n",
    "import urllib\n",
    "from apimetrics_api import APImetricsAPI \n",
    "    \n",
    "# An instance of the class that calls the APImetrics API\n",
    "CLIENT = APImetricsAPI(API_KEY)\n",
    "\n",
    "# [CLIENT.delete_token(o['id']) for o in CLIENT.tokens.values()]\n",
    "# [CLIENT.delete_auth(o['id']) for o in CLIENT.auths.values()]\n",
    "# [CLIENT.delete_call(o['id']) for o in CLIENT.calls.values()]\n",
    "# [CLIENT.delete_workflow(o['id']) for o in CLIENT.workflows.values()]"
   ]
  },
  {
   "cell_type": "markdown",
   "metadata": {},
   "source": [
    "From here on out, you can pick and choose what you want to run.\n",
    "\n",
    "\n",
    "## Create Auth Setting for APImetrics API"
   ]
  },
  {
   "cell_type": "code",
   "execution_count": 23,
   "metadata": {},
   "outputs": [
    {
     "name": "stdout",
     "output_type": "stream",
     "text": [
      "Found 6 Auths\n",
      "Auth tags: auth:apimetrics_api, auth:bank_matls\n",
      "Found Auth Setting agpzfnZpYXRlc3RzchoLEg1TZXJ2aWNlQ29uZmlnGICA6PuP-6kKDA\n",
      "Found 6 Tokens\n",
      "Tokens for auths: agpzfnZpYXRlc3RzchoLEg1TZXJ2aWNlQ29uZmlnGICA6LS6r_sJDA, APImetrics API, Pyxis Transport MATLS, APImetrics API, Pyxis JWT Signer, Transport MATLS\n"
     ]
    }
   ],
   "source": [
    "# First, create APImetrics API Auth Setting\n",
    "tag = 'auth:apimetrics_api'\n",
    "if tag not in CLIENT.auths_by_tag:\n",
    "    setup = {\n",
    "        \"meta\": {\n",
    "            \"domain\": \"client.apimetrics.io\",\n",
    "            \"documentation\": {\n",
    "                \"keys\": \"https://client.apimetrics.io/settings/api-key\",\n",
    "                \"docs\": \"https://apimetrics.readme.io/v2/reference\",\n",
    "                \"apps\": \"\",\n",
    "                \"provider\": \"https://client.apimetrics.io/\",\n",
    "            },\n",
    "            \"name\": \"APImetrics API\",\n",
    "            \"tags\": [tag],\n",
    "            \"description\": \"API that allows you to call APImetrics' API.\",\n",
    "        },\n",
    "        \"settings\": {\"auth_type\": \"MANUAL\"}\n",
    "    }\n",
    "    auth = CLIENT.create_auth(setup)\n",
    "    print(f\"Created Auth Setting {auth['meta']['name']} with id {auth['id']}\")\n",
    "else:\n",
    "    print(f\"Found Auth Setting {CLIENT.auths_by_tag[tag]}\")\n",
    "\n",
    "# Next, Create Token\n",
    "if CLIENT.auths_by_tag[tag] not in CLIENT.tokens_by_auth:\n",
    "    setup = {\n",
    "        'meta': {\n",
    "            'name': 'Project Access Token',\n",
    "            'domain': 'client.apimetrics.io',\n",
    "            'auth_id': CLIENT.auths_by_tag[tag]\n",
    "        },\n",
    "        'token': {\n",
    "            'headers': [\n",
    "              {\n",
    "                'p_key': 'Authorization',\n",
    "                'p_val': f'Bearer {API_KEY}',\n",
    "              },\n",
    "            ],\n",
    "        }\n",
    "    }\n",
    "    token = CLIENT.create_token(setup)\n",
    "    print(f\"Created Auth Token {token['meta']['name']} with id {token['id']}\")"
   ]
  },
  {
   "cell_type": "markdown",
   "metadata": {},
   "source": [
    "## Create APImetrics API helpers for setting env variables"
   ]
  },
  {
   "cell_type": "code",
   "execution_count": 24,
   "metadata": {},
   "outputs": [],
   "source": [
    "def get_set_env(tag, var_name, value):\n",
    "    body = {\"value\": value}\n",
    "    body_str = json.dumps(body)\n",
    "\n",
    "    setup = {\n",
    "        \"meta\": {\n",
    "            \"description\": None,\n",
    "            \"tags\": [\"api_type:update\", \"sector:devtools\", tag],\n",
    "            \"name\": \"APImetrics: Save {}\".format(var_name),\n",
    "            \"workspace\": \"global\",\n",
    "        },\n",
    "        \"request\": {\n",
    "            \"body\": body_str,\n",
    "            \"parameters\": [],\n",
    "            \"url\": \"https://client.apimetrics.io/api/2/environment/global/{}\".format(\n",
    "                var_name\n",
    "            ),\n",
    "            \"auth_id\": CLIENT.auths_by_tag['auth:apimetrics_api'],\n",
    "            \"headers\": [\n",
    "                {\"value\": \"application/json\", \"key\": \"Accept\"},\n",
    "                {\"value\": \"application/json\", \"key\": \"Content-Type\"},\n",
    "            ],\n",
    "            \"token_id\": CLIENT.tokens_by_auth[CLIENT.auths_by_tag['auth:apimetrics_api']],\n",
    "            \"method\": \"POST\",\n",
    "        },\n",
    "    }\n",
    "    return setup"
   ]
  },
  {
   "cell_type": "code",
   "execution_count": 25,
   "metadata": {},
   "outputs": [
    {
     "name": "stdout",
     "output_type": "stream",
     "text": [
      "Found 65 Calls\n",
      "Call tags: api_type:read, sector:hobbyist, api_expert:exclude, api_type:update, sector:devtools, apim:set_env:code, apim:set_env:refresh_token, apim:tokens:update, api_type:create, sector:financial, api_type:delete, ob_id:0, banks:oauth:client_credentials, jwt:sign:client_credentials, ob_id:64, ob_v:1.1, ob_id:65, ob_id:66, ob_id:67, ob_id:25, ob_v:2.0, ob_id:68, ob_id:70, ob_id:69, ob_id:4, ob_id:5, ob_id:7, ob_id:6, ob_id:10, ob_id:13, ob_id:12, ob_id:19, ob_id:18, ob_id:21, ob_id:20, ob_id:17, ob_id:16, ob_id:23, ob_id:22, ob_id:15, ob_id:14, ob_id:28, ob_id:26, ob_id:24, ob_id:27, ob_id:9, ob_id:8, ob_id:1, ob_v:3.1, banks:3.1:account-access-consents:create_max, banks:3.1:account-access-consents:create_min, ob_id:3, banks:3.1:account-access-consents:delete, ob_id:2, banks:3.1:account-access-consents:read\n"
     ]
    }
   ],
   "source": [
    "tag = 'apim:set_env:code'\n",
    "if tag not in CLIENT.calls_by_tag:\n",
    "    setup = get_set_env(tag, 'code', '__CODE__')\n",
    "    call = CLIENT.create_call(setup)\n",
    "    print(f\"Created Call {call['meta']['name']} with id {call['id']}\")"
   ]
  },
  {
   "cell_type": "code",
   "execution_count": 26,
   "metadata": {},
   "outputs": [],
   "source": [
    "tag = 'apim:set_env:refresh_token'\n",
    "if tag not in CLIENT.calls_by_tag:\n",
    "    setup = get_set_env(tag, 'refresh_token', '__REFRESH_TOKEN__')\n",
    "    call = CLIENT.create_call(setup)\n",
    "    print(f\"Created Call {call['meta']['name']} with id {call['id']}\")"
   ]
  },
  {
   "cell_type": "markdown",
   "metadata": {},
   "source": [
    "## Create APImetrics API helper to save token"
   ]
  },
  {
   "cell_type": "code",
   "execution_count": 27,
   "metadata": {},
   "outputs": [],
   "source": [
    "tag = 'apim:tokens:update'\n",
    "if tag not in CLIENT.calls_by_tag:\n",
    "    body = {\n",
    "        \"token\": {\n",
    "            \"headers\": [\n",
    "                {\"p_key\": \"Authorization\", \"p_val\": \"Bearer %%ACCESS_TOKEN%%\"},\n",
    "            ],\n",
    "            \"expires_in\": \"%%EXPIRES_IN%%\",\n",
    "        }\n",
    "    }\n",
    "    body_str = json.dumps(body, indent=2)\n",
    "    body_str = body_str.replace('\"%%EXPIRES_IN%%\"', \"%%EXPIRES_IN%%\")\n",
    "\n",
    "    setup = {\n",
    "        \"meta\": {\n",
    "            \"tags\": [\"api_type:update\", \"sector:devtools\", tag],\n",
    "            \"name\": \"APImetrics: Update Auth Token\",\n",
    "            \"workspace\": \"global\",\n",
    "        },\n",
    "        \"request\": {\n",
    "            \"body\": body_str,\n",
    "            \"parameters\": [],\n",
    "            \"url\": \"https://client.apimetrics.io/api/2/tokens/{{apim_token_id}}/\",\n",
    "            \"auth_id\": CLIENT.auths_by_tag['auth:apimetrics_api'],\n",
    "            \"headers\": [{\"value\": \"application/json\", \"key\": \"Content-Type\"}],\n",
    "            \"token_id\": CLIENT.tokens_by_auth[CLIENT.auths_by_tag['auth:apimetrics_api']],\n",
    "            \"method\": \"POST\",\n",
    "        },\n",
    "    }\n",
    "    call = CLIENT.create_call(setup)\n",
    "    print(f\"Created Call {call['meta']['name']} with id {call['id']}\")\n",
    "    \n",
    "    # Set environment variable we use in the API\n",
    "    CLIENT.set_env_variable(\n",
    "        'global', \n",
    "        'apim_token_id', \n",
    "        CLIENT.tokens_by_auth[CLIENT.auths_by_tag['auth:bank_matls']])"
   ]
  },
  {
   "cell_type": "markdown",
   "metadata": {},
   "source": [
    "## OAuth - API calls\n",
    "### Client Credentials flow"
   ]
  },
  {
   "cell_type": "code",
   "execution_count": 28,
   "metadata": {},
   "outputs": [],
   "source": [
    "tag = 'banks:oauth:client_credentials'\n",
    "if tag not in CLIENT.calls_by_tag:\n",
    "    \n",
    "    assert 'auth:bank_matls' in CLIENT.auths_by_tag, 'Did not find a maTLS Auth Setting to use'\n",
    "    \n",
    "    headers = [\n",
    "        {\"key\": \"Content-Type\", \"value\": \"application/x-www-form-urlencoded\"},\n",
    "        {\"key\": \"Authorization\", \"value\": \"Basic __BASIC_AUTH__\"}\n",
    "    ]\n",
    "    \n",
    "    params = {\n",
    "        \"grant_type\": \"client_credentials\",\n",
    "        \"scope\": SCOPES\n",
    "    }\n",
    "    params_str = urllib.parse.urlencode(params)\n",
    "    \n",
    "    setup = {\n",
    "        \"meta\": {\n",
    "            \"description\": \"\",\n",
    "            \"tags\": [\"api_type:create\", \"sector:financial\", \"ob_id:0\", tag],\n",
    "            \"name\": \"OAuth: Access Token: client_credentials\",\n",
    "            \"workspace\": \"global\",\n",
    "        },\n",
    "        \"request\": {\n",
    "            \"body\": params_str,\n",
    "            \"parameters\": [],\n",
    "            \"url\": ACCESS_TOKEN_URL,\n",
    "            \"auth_id\": CLIENT.auths_by_tag['auth:bank_matls'],\n",
    "            \"headers\": headers,\n",
    "            \"token_id\": None,\n",
    "            \"method\": \"POST\",\n",
    "        },\n",
    "    }\n",
    "    call = CLIENT.create_call(setup)\n",
    "    print(f\"Created Call {call['meta']['name']} with id {call['id']}\")"
   ]
  },
  {
   "cell_type": "markdown",
   "metadata": {},
   "source": [
    "### Auth Code flow - go to user authorization page"
   ]
  },
  {
   "cell_type": "code",
   "execution_count": 29,
   "metadata": {},
   "outputs": [
    {
     "name": "stdout",
     "output_type": "stream",
     "text": [
      "Created Call OAuth: Authorize with id agpzfnZpYXRlc3RzchcLEgpUZXN0U2V0dXAyGICA6IfHibMJDA\n"
     ]
    }
   ],
   "source": [
    "tag = 'banks:oauth:authorize'\n",
    "if tag not in CLIENT.calls_by_tag:\n",
    "    \n",
    "    headers = [{\"value\": \"*/*\", \"key\": \"Accept\"}]\n",
    "    \n",
    "    params = {\n",
    "        \"response_type\": \"code id_token\",\n",
    "        \"scope\": SCOPES,\n",
    "        \"client_id\": \"{{client_id}}\",\n",
    "        \"state\": \"__TEST_RUN_RESULT_ID__\",\n",
    "        \"nonce\": \"__TEST_RUN_RESULT_ID__\",\n",
    "        \"redirect_uri\": \"{{redirect_uri}}\",\n",
    "        \"request\": \"__CONSENT_ID__\"\n",
    "    }\n",
    "    \n",
    "    params_str = urllib.parse.urlencode(params)\n",
    "\n",
    "    setup = {\n",
    "        \"meta\": {\n",
    "            \"description\": \"\",\n",
    "            \"tags\": [\"api_type:create\", \"sector:financial\", \"ob_id:0\", tag],\n",
    "            \"name\": \"OAuth: Authorize\",\n",
    "            \"workspace\": \"global\",\n",
    "        },\n",
    "        \"request\": {\n",
    "            \"body\": None,\n",
    "            \"parameters\": params,\n",
    "            \"url\": AUTHORIZATION_URL,\n",
    "            \"auth_id\": CLIENT.auths_by_tag['auth:bank_matls'],\n",
    "            \"headers\": headers,\n",
    "            \"token_id\": None,\n",
    "            \"method\": \"GET\",\n",
    "        },\n",
    "    }\n",
    "    call = CLIENT.create_call(setup)\n",
    "    print(f\"Created Call {call['meta']['name']} with id {call['id']}\")"
   ]
  },
  {
   "cell_type": "markdown",
   "metadata": {},
   "source": [
    "### Auth Code flow - get access token\n",
    "\n",
    "This is the call that swaps the temporary code from the user sign in redirect URL for an access token"
   ]
  },
  {
   "cell_type": "code",
   "execution_count": 30,
   "metadata": {},
   "outputs": [
    {
     "name": "stdout",
     "output_type": "stream",
     "text": [
      "Found 66 Calls\n",
      "Call tags: api_type:read, sector:hobbyist, api_expert:exclude, api_type:update, sector:devtools, apim:set_env:code, apim:set_env:refresh_token, apim:tokens:update, api_type:create, sector:financial, api_type:delete, ob_id:0, banks:oauth:client_credentials, banks:oauth:authorize, jwt:sign:client_credentials, ob_id:64, ob_v:1.1, ob_id:65, ob_id:66, ob_id:67, ob_id:25, ob_v:2.0, ob_id:68, ob_id:70, ob_id:69, ob_id:4, ob_id:5, ob_id:7, ob_id:6, ob_id:10, ob_id:13, ob_id:12, ob_id:19, ob_id:18, ob_id:21, ob_id:20, ob_id:17, ob_id:16, ob_id:23, ob_id:22, ob_id:15, ob_id:14, ob_id:28, ob_id:26, ob_id:24, ob_id:27, ob_id:9, ob_id:8, ob_id:1, ob_v:3.1, banks:3.1:account-access-consents:create_max, banks:3.1:account-access-consents:create_min, ob_id:3, banks:3.1:account-access-consents:delete, ob_id:2, banks:3.1:account-access-consents:read\n",
      "Created Call OAuth: Access Token: authorization_code with id agpzfnZpYXRlc3RzchcLEgpUZXN0U2V0dXAyGICA6Mfh2vEKDA\n"
     ]
    }
   ],
   "source": [
    "# For auth_code flow\n",
    "tag = 'banks:oauth:code'\n",
    "if tag not in CLIENT.calls_by_tag:\n",
    "    assert 'auth:bank_matls' in CLIENT.auths_by_tag, 'Did not find a maTLS Auth Setting to use'\n",
    "    \n",
    "    headers = [\n",
    "        {\"key\": \"Content-Type\", \"value\": \"application/x-www-form-urlencoded\"},\n",
    "        {\"key\": \"Authorization\", \"value\": \"Basic __BASIC_AUTH__\"},\n",
    "    ]\n",
    "\n",
    "    params = {\n",
    "        \"grant_type\": \"authorization_code\",\n",
    "        \"code\": \"{{code}}\",\n",
    "        \"redirect_uri\": \"{{redirect_uri}}\",\n",
    "    }\n",
    "    params_str = urllib.parse.urlencode(params)\n",
    "\n",
    "    setup = {\n",
    "        \"meta\": {\n",
    "            \"description\": \"\",\n",
    "            \"tags\": [\"api_type:create\", \"sector:financial\", \"ob_id:0\", tag],\n",
    "            \"name\": \"OAuth: Access Token: authorization_code\",\n",
    "            \"workspace\": \"global\",\n",
    "        },\n",
    "        \"request\": {\n",
    "            \"body\": params_str,\n",
    "            \"parameters\": [],\n",
    "            \"url\": ACCESS_TOKEN_URL,\n",
    "            \"auth_id\": CLIENT.auths_by_tag['auth:bank_matls'],\n",
    "            \"headers\": headers,\n",
    "            \"token_id\": None,\n",
    "            \"method\": \"POST\",\n",
    "        },\n",
    "    }\n",
    "    call = CLIENT.create_call(setup)\n",
    "    print(f\"Created Call {call['meta']['name']} with id {call['id']}\")"
   ]
  },
  {
   "cell_type": "markdown",
   "metadata": {},
   "source": [
    "### Refresh token flow"
   ]
  },
  {
   "cell_type": "code",
   "execution_count": 31,
   "metadata": {},
   "outputs": [
    {
     "name": "stdout",
     "output_type": "stream",
     "text": [
      "Found 67 Calls\n",
      "Call tags: api_type:read, sector:hobbyist, api_expert:exclude, api_type:update, sector:devtools, apim:set_env:code, apim:set_env:refresh_token, apim:tokens:update, api_type:create, sector:financial, api_type:delete, ob_id:0, banks:oauth:code, banks:oauth:client_credentials, banks:oauth:authorize, jwt:sign:client_credentials, ob_id:64, ob_v:1.1, ob_id:65, ob_id:66, ob_id:67, ob_id:25, ob_v:2.0, ob_id:68, ob_id:70, ob_id:69, ob_id:4, ob_id:5, ob_id:7, ob_id:6, ob_id:10, ob_id:13, ob_id:12, ob_id:19, ob_id:18, ob_id:21, ob_id:20, ob_id:17, ob_id:16, ob_id:23, ob_id:22, ob_id:15, ob_id:14, ob_id:28, ob_id:26, ob_id:24, ob_id:27, ob_id:9, ob_id:8, ob_id:1, ob_v:3.1, banks:3.1:account-access-consents:create_max, banks:3.1:account-access-consents:create_min, ob_id:3, banks:3.1:account-access-consents:delete, ob_id:2, banks:3.1:account-access-consents:read\n",
      "Created Call OAuth: Access Token: refresh_token with id agpzfnZpYXRlc3RzchcLEgpUZXN0U2V0dXAyGICA6MeIrpELDA\n"
     ]
    }
   ],
   "source": [
    "# For auth_code flow\n",
    "tag = 'banks:oauth:refresh_token'\n",
    "if tag not in CLIENT.calls_by_tag:\n",
    "    assert 'auth:bank_matls' in CLIENT.auths_by_tag, 'Did not find a maTLS Auth Setting to use'\n",
    "    \n",
    "    headers = [\n",
    "        {\"key\": \"Content-Type\", \"value\": \"application/x-www-form-urlencoded\"},\n",
    "        {\"key\": \"Authorization\", \"value\": \"Basic __BASIC_AUTH__\"},\n",
    "    ]\n",
    "\n",
    "    params = {\n",
    "        \"grant_type\": \"refresh_token\",\n",
    "        \"refresh_token\": \"{{refresh_token}}\",\n",
    "    }\n",
    "    params_str = urllib.parse.urlencode(params)\n",
    "\n",
    "    setup = {\n",
    "        \"meta\": {\n",
    "            \"description\": \"\",\n",
    "            \"tags\": [\"api_type:create\", \"sector:financial\", \"ob_id:0\", tag],\n",
    "            \"name\": \"OAuth: Access Token: refresh_token\",\n",
    "            \"workspace\": \"global\",\n",
    "        },\n",
    "        \"request\": {\n",
    "            \"body\": params_str,\n",
    "            \"parameters\": [],\n",
    "            \"url\": ACCESS_TOKEN_URL,\n",
    "            \"auth_id\": CLIENT.auths_by_tag['auth:bank_matls'],\n",
    "            \"headers\": headers,\n",
    "            \"token_id\": None,\n",
    "            \"method\": \"POST\",\n",
    "        },\n",
    "    }\n",
    "    call = CLIENT.create_call(setup)\n",
    "    print(f\"Created Call {call['meta']['name']} with id {call['id']}\")"
   ]
  },
  {
   "cell_type": "markdown",
   "metadata": {},
   "source": [
    "## Create Workflows to for User sign-in (authorize_code flow)"
   ]
  },
  {
   "cell_type": "code",
   "execution_count": 32,
   "metadata": {},
   "outputs": [
    {
     "name": "stdout",
     "output_type": "stream",
     "text": [
      "Found 12 Workflows\n",
      "Call tags: banks:3.1:account-access-consents:lifecycle\n",
      "Found 68 Calls\n",
      "Call tags: api_type:read, sector:hobbyist, api_expert:exclude, api_type:update, sector:devtools, apim:set_env:code, apim:set_env:refresh_token, apim:tokens:update, api_type:create, sector:financial, api_type:delete, ob_id:0, banks:oauth:code, banks:oauth:client_credentials, banks:oauth:refresh_token, banks:oauth:authorize, jwt:sign:client_credentials, ob_id:64, ob_v:1.1, ob_id:65, ob_id:66, ob_id:67, ob_id:25, ob_v:2.0, ob_id:68, ob_id:70, ob_id:69, ob_id:4, ob_id:5, ob_id:7, ob_id:6, ob_id:10, ob_id:13, ob_id:12, ob_id:19, ob_id:18, ob_id:21, ob_id:20, ob_id:17, ob_id:16, ob_id:23, ob_id:22, ob_id:15, ob_id:14, ob_id:28, ob_id:26, ob_id:24, ob_id:27, ob_id:9, ob_id:8, ob_id:1, ob_v:3.1, banks:3.1:account-access-consents:create_max, banks:3.1:account-access-consents:create_min, ob_id:3, banks:3.1:account-access-consents:delete, ob_id:2, banks:3.1:account-access-consents:read\n",
      "Created Workflow [Manual] OAuth: Sign in as User (1/2) with id agpzfnZpYXRlc3RzchQLEgdUZXN0UnVuGICA6JvOwcIJDA\n"
     ]
    }
   ],
   "source": [
    "# The user sign-in flow step 1\n",
    "tag = 'banks:oauth:flow:authorize_code:1'\n",
    "if tag not in CLIENT.workflows_by_tag:\n",
    "            \n",
    "    # This is the API that generates the claims you're going to use in the Auth\n",
    "    claims_tag = 'banks:3.1:account-access-consents:create_max'\n",
    "    \n",
    "    call_tags = [\n",
    "        'banks:oauth:client_credentials',\n",
    "        claims_tag,\n",
    "        'banks:oauth:authorize',\n",
    "    ]\n",
    "    for t in call_tags:\n",
    "        assert t in CLIENT.calls_by_tag, f\"API {t} does not exist\"\n",
    "    \n",
    "    setup = {\n",
    "      \"meta\": {\n",
    "        \"name\": '[Manual] OAuth: Sign in as User (1/2)', \n",
    "        \"workspace\": \"global\", \n",
    "        \"tags\": [tag], \n",
    "      }, \n",
    "      \"workflow\": {\n",
    "        \"handle_cookies\": False,\n",
    "        \"stop_on_failure\": True,\n",
    "        \"call_ids\": [CLIENT.calls_by_tag[t] for t in call_tags]\n",
    "      }\n",
    "    }\n",
    "    call = CLIENT.create_workflow(setup)\n",
    "    print(f\"Created Workflow {call['meta']['name']} with id {call['id']}\")\n"
   ]
  },
  {
   "cell_type": "code",
   "execution_count": 33,
   "metadata": {},
   "outputs": [
    {
     "name": "stdout",
     "output_type": "stream",
     "text": [
      "Found 13 Workflows\n",
      "Call tags: banks:3.1:account-access-consents:lifecycle, banks:oauth:flow:authorize_code:1\n",
      "Created Workflow [Manual] OAuth: Sign in as User (2/2) with id agpzfnZpYXRlc3RzchQLEgdUZXN0UnVuGICA6KeOvL4KDA\n"
     ]
    }
   ],
   "source": [
    "# The user sign-in flow step 2\n",
    "tag = 'banks:oauth:flow:authorize_code:2'\n",
    "if tag not in CLIENT.workflows_by_tag:\n",
    "            \n",
    "    call_tags = [\n",
    "        'apim:set_env:code',  # Save OAuth Code\n",
    "        'banks:oauth:code',\n",
    "        'apim:set_env:refresh_token',\n",
    "        'apim:tokens:update',\n",
    "    ]\n",
    "    for t in call_tags:\n",
    "        assert t in CLIENT.calls_by_tag, f\"API {t} does not exist\"\n",
    "    \n",
    "    setup = {\n",
    "      \"meta\": {\n",
    "        \"name\": \"[Manual] OAuth: Sign in as User (2/2)\", \n",
    "        \"workspace\": \"global\", \n",
    "        \"tags\": [tag], \n",
    "      }, \n",
    "      \"workflow\": {\n",
    "        \"handle_cookies\": False,\n",
    "        \"stop_on_failure\": True,\n",
    "        \"call_ids\": [CLIENT.calls_by_tag[t] for t in call_tags]\n",
    "      }\n",
    "    }\n",
    "    call = CLIENT.create_workflow(setup)\n",
    "    print(f\"Created Workflow {call['meta']['name']} with id {call['id']}\")\n"
   ]
  },
  {
   "cell_type": "markdown",
   "metadata": {},
   "source": [
    "## Create Refresh token workflow"
   ]
  },
  {
   "cell_type": "code",
   "execution_count": 34,
   "metadata": {},
   "outputs": [
    {
     "name": "stdout",
     "output_type": "stream",
     "text": [
      "Found 14 Workflows\n",
      "Call tags: banks:3.1:account-access-consents:lifecycle, banks:oauth:flow:authorize_code:1, banks:oauth:flow:authorize_code:2\n",
      "Created Workflow OAuth: Refresh token with id agpzfnZpYXRlc3RzchQLEgdUZXN0UnVuGICA6LvY3bcLDA\n"
     ]
    }
   ],
   "source": [
    "# A workflow to refresh our access token\n",
    "tag = 'banks:oauth:flow:refresh_token'\n",
    "if tag not in CLIENT.workflows_by_tag:\n",
    "    call_tags = [\n",
    "        'banks:oauth:refresh_token',\n",
    "        'apim:tokens:update',\n",
    "        'apim:set_env:refresh_token',\n",
    "    ]\n",
    "    for t in call_tags:\n",
    "        assert t in CLIENT.calls_by_tag, f\"API {t} does not exist\"\n",
    "\n",
    "    setup = {\n",
    "      \"meta\": {\n",
    "        \"name\": \"OAuth: Refresh token\", \n",
    "        \"workspace\": \"global\", \n",
    "        \"tags\": [tag], \n",
    "      }, \n",
    "      \"workflow\": {\n",
    "        \"handle_cookies\": False,\n",
    "        \"stop_on_failure\": True,\n",
    "        \"call_ids\": [CLIENT.calls_by_tag[t] for t in call_tags]\n",
    "      }\n",
    "    }\n",
    "    workflow = CLIENT.create_workflow(setup)\n",
    "    print(f\"Created Workflow {workflow['meta']['name']} with id {workflow['id']}\")"
   ]
  },
  {
   "cell_type": "code",
   "execution_count": null,
   "metadata": {},
   "outputs": [],
   "source": []
  }
 ],
 "metadata": {
  "kernelspec": {
   "display_name": "Python 3",
   "language": "python",
   "name": "python3"
  },
  "language_info": {
   "codemirror_mode": {
    "name": "ipython",
    "version": 3
   },
   "file_extension": ".py",
   "mimetype": "text/x-python",
   "name": "python",
   "nbconvert_exporter": "python",
   "pygments_lexer": "ipython3",
   "version": "3.8.3"
  }
 },
 "nbformat": 4,
 "nbformat_minor": 4
}
