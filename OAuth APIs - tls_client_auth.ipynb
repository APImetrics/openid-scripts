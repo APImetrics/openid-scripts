{
 "cells": [
  {
   "cell_type": "markdown",
   "metadata": {},
   "source": [
    "# Set up OAuth APIs with tls_client_auth\n",
    "Running this script will create the APIs so we can sign JWTs and use the private_key_jwt authorization methods\n",
    "\n",
    "## Requirements\n",
    "1. Create an APImetrics Project\n",
    "1. Get an API key with EDITOR permissions for the project, enter it below\n",
    "1. Run this workbook to create all Auth Settings, APIs and Workflows for Sign-in flow\n",
    "1. Set environment variables:\n",
    "    1. kid_cert_version - this is the numeric ID internal to APImetrics for your signing key\n",
    "    1. kid - this is your signing certs real key ID (as per JWKS)\n",
    "    1. client_id - this is your client_id \n",
    "    1. issuer - this is the issuer for your JWTs\n",
    "    1. redirect_uri - this is your redirect_uri for OAuth\n",
    "    \n",
    "NB: Until we publish the API call conditions API, those need to be added manually from the conditions tab"
   ]
  },
  {
   "cell_type": "code",
   "execution_count": 47,
   "metadata": {},
   "outputs": [
    {
     "name": "stdout",
     "output_type": "stream",
     "text": [
      "Enter your APImetrics API key for the intended project: mTkWg8NQKURDgzNmEbnf4yhem51ZgWqF\n"
     ]
    }
   ],
   "source": [
    "# Enter intended project's APImetrics API key here:\n",
    "API_KEY = input(\"Enter your APImetrics API key for the intended project: \")"
   ]
  },
  {
   "cell_type": "code",
   "execution_count": 48,
   "metadata": {},
   "outputs": [
    {
     "name": "stdout",
     "output_type": "stream",
     "text": [
      "Enter your .well-known JSON here:            { \t\"issuer\": \"https://api.nationwide.co.uk/open-banking\", \t\"authorization_endpoint\": \"https://api.obtpp.nationwideinterfaces.io/open-banking/oauth/authorize\", \t\"token_endpoint\": \"https://api.obtpp.nationwideinterfaces.io/open-banking/oauth/token\", \t\"jwks_uri\": \"https://keystore.openbanking.org.uk/0015800000jf8aKAAQ/bghrOqZUMgBTV07eFcydf.jwks\", \t\"registration_endpoint\": \"https://api.obtpp.nationwideinterfaces.io/open-banking/register\", \t\"scopes_supported\": [\"openid\", \"accounts\", \"payments\", \"fundsconfirmations\"], \t\"claims_supported\": [\"openbanking_intent_id\"], \t\"response_types_supported\": [\"code id_token\"], \t\"grant_types_supported\": [\"authorization_code\", \"refresh_token\", \"client_credentials\"], \t\"subject_types_supported\": [\"public\"], \t\"id_token_signing_alg_values_supported\": [\"PS256\"], \t\"token_endpoint_auth_methods_supported\": [\"tls_client_auth\"], \t\"request_parameter_supported\": true, \t\"claims_parameter_supported\": true, \t\"request_object_signing_alg_values_supported\": [\"PS256\"], \t\"service_documentation\": \"https://www.nationwide.co.uk/developer\" }         \n"
     ]
    }
   ],
   "source": [
    "# Put your .well-known JSON here\n",
    "import json\n",
    "true = True # to make copy-pasteing easier \n",
    "false = False # to make copy-pasteing easier \n",
    "WELL_KNOWN = None\n",
    "if not WELL_KNOWN:\n",
    "    WELL_KNOWN = json.loads(input(\"Enter your .well-known JSON here: \"))"
   ]
  },
  {
   "cell_type": "code",
   "execution_count": 49,
   "metadata": {},
   "outputs": [
    {
     "name": "stdout",
     "output_type": "stream",
     "text": [
      "Enter the scopes you wish to use (except openid, we'll add that automatically): accounts\n",
      "Using scopes openid accounts\n"
     ]
    }
   ],
   "source": [
    "# Enter your intended scope for your tokens\n",
    "scopes_in = input(\"Enter the scopes you wish to use (except openid, we'll add that automatically): \")\n",
    "scopes = ['openid'] + [scope.strip() for scope in scopes_in.split(' ')]\n",
    "for scope in scopes:\n",
    "    assert scope in WELL_KNOWN['scopes_supported'], f\"Scope {scope} is not supported according to .well-known\"\n",
    "SCOPES = \" \".join(scopes)\n",
    "print(f\"Using scopes {SCOPES}\")"
   ]
  },
  {
   "cell_type": "code",
   "execution_count": 50,
   "metadata": {},
   "outputs": [
    {
     "name": "stdout",
     "output_type": "stream",
     "text": [
      "Domain for Bank APIs: api.obtpp.nationwideinterfaces.io\n"
     ]
    }
   ],
   "source": [
    "assert 'tls_client_auth' in WELL_KNOWN['token_endpoint_auth_methods_supported'], 'This script is for private_key_jwt but your well-known does not claim that it is supported'\n",
    "\n",
    "# We now extract the values we need (or you can override it)\n",
    "AUTHORIZATION_URL = WELL_KNOWN['authorization_endpoint']\n",
    "ACCESS_TOKEN_URL = WELL_KNOWN['token_endpoint']\n",
    "DOMAIN = input(\"Domain for Bank APIs: \")"
   ]
  },
  {
   "cell_type": "code",
   "execution_count": 51,
   "metadata": {},
   "outputs": [],
   "source": [
    "# Helper functions\n",
    "import requests\n",
    "import json\n",
    "import urllib\n",
    "from apimetrics_api import APImetricsAPI \n",
    "    \n",
    "# An instance of the class that calls the APImetrics API\n",
    "CLIENT = APImetricsAPI(API_KEY)\n",
    "\n",
    "# [CLIENT.delete_token(o['id']) for o in CLIENT.tokens.values()]\n",
    "# [CLIENT.delete_auth(o['id']) for o in CLIENT.auths.values()]\n",
    "# [CLIENT.delete_call(o['id']) for o in CLIENT.calls.values()]\n",
    "# [CLIENT.delete_workflow(o['id']) for o in CLIENT.workflows.values()]"
   ]
  },
  {
   "cell_type": "markdown",
   "metadata": {},
   "source": [
    "From here on out, you can pick and choose what you want to run.\n",
    "\n",
    "\n",
    "## Create Auth Setting for APImetrics API"
   ]
  },
  {
   "cell_type": "code",
   "execution_count": 52,
   "metadata": {},
   "outputs": [
    {
     "name": "stdout",
     "output_type": "stream",
     "text": [
      "Found 5 Auths\n",
      "Auth tags: auth:apimetrics_api, auth:bank_matls\n",
      "Found Auth Setting agpzfnZpYXRlc3RzchoLEg1TZXJ2aWNlQ29uZmlnGICA6Megy5EJDA\n",
      "Found 5 Tokens\n",
      "Tokens for auths: APImetrics API, Pyxis Transport MATLS, Transport MATLS, APImetrics API, Pyxis JWT Signer\n"
     ]
    }
   ],
   "source": [
    "# First, create APImetrics API Auth Setting\n",
    "tag = 'auth:apimetrics_api'\n",
    "if tag not in CLIENT.auths_by_tag:\n",
    "    setup = {\n",
    "        \"meta\": {\n",
    "            \"domain\": \"client.apimetrics.io\",\n",
    "            \"documentation\": {\n",
    "                \"keys\": \"https://client.apimetrics.io/settings/api-key\",\n",
    "                \"docs\": \"https://apimetrics.readme.io/v2/reference\",\n",
    "                \"apps\": \"\",\n",
    "                \"provider\": \"https://client.apimetrics.io/\",\n",
    "            },\n",
    "            \"name\": \"APImetrics API\",\n",
    "            \"tags\": [tag],\n",
    "            \"description\": \"API that allows you to call APImetrics' API.\",\n",
    "        },\n",
    "        \"settings\": {\"auth_type\": \"MANUAL\"}\n",
    "    }\n",
    "    auth = CLIENT.create_auth(setup)\n",
    "    print(f\"Created Auth Setting {auth['meta']['name']} with id {auth['id']}\")\n",
    "else:\n",
    "    print(f\"Found Auth Setting {CLIENT.auths_by_tag[tag]}\")\n",
    "\n",
    "# Next, Create Token\n",
    "if CLIENT.auths_by_tag[tag] not in CLIENT.tokens_by_auth:\n",
    "    setup = {\n",
    "        'meta': {\n",
    "            'name': 'Project Access Token',\n",
    "            'domain': 'client.apimetrics.io',\n",
    "            'auth_id': CLIENT.auths_by_tag[tag]\n",
    "        },\n",
    "        'token': {\n",
    "            'headers': [\n",
    "              {\n",
    "                'p_key': 'Authorization',\n",
    "                'p_val': f'Bearer {API_KEY}',\n",
    "              },\n",
    "            ],\n",
    "        }\n",
    "    }\n",
    "    token = CLIENT.create_token(setup)\n",
    "    print(f\"Created Auth Token {token['meta']['name']} with id {token['id']}\")"
   ]
  },
  {
   "cell_type": "markdown",
   "metadata": {},
   "source": [
    "## Create Auth for calling Bank APIs"
   ]
  },
  {
   "cell_type": "code",
   "execution_count": 53,
   "metadata": {},
   "outputs": [],
   "source": [
    "# First create Auth Setting\n",
    "tag = 'auth:bank_matls'\n",
    "if tag not in CLIENT.auths_by_tag:\n",
    "\n",
    "    ssl_key = None\n",
    "    ssl_cert = None\n",
    "\n",
    "#     if SSL_KEY_PATH:\n",
    "#         with open(SSL_KEY_PATH) as stream:\n",
    "#             ssl_key = stream.read()\n",
    "\n",
    "#     if SSL_CERT_PATH:\n",
    "#         with open(SSL_CERT_PATH) as stream:\n",
    "#             ssl_cert = stream.read()\n",
    "    \n",
    "    setup = {\n",
    "        \"access\": {\n",
    "            \"keys\": False,\n",
    "            \"org_keys\": False,\n",
    "            \"org_settings\": True,\n",
    "            \"settings\": False,\n",
    "        },\n",
    "        \"keys\": {},\n",
    "        \"meta\": {\n",
    "            \"domain\": DOMAIN,\n",
    "            \"documentation\": {\"keys\": \"\", \"docs\": \"\", \"apps\": \"\", \"provider\": \"\"},\n",
    "            \"name\": \"Transport MATLS\",\n",
    "            \"tags\": [tag],\n",
    "            \"description\": \"Mutual Authenticated TLS for calls to bank APIs\",\n",
    "        },\n",
    "        \"settings\": {\n",
    "            \"auth_type\": \"MANUAL\",\n",
    "            \"ssl_key\": ssl_key,\n",
    "            \"ssl_cert\": ssl_cert,\n",
    "        },\n",
    "    }\n",
    "#     if OAUTH_METHOD == \"client_secret_post\" or OAUTH_METHOD == \"client_secret_basic\":\n",
    "#         setup[\"keys\"][\"client_id\"] = CLIENT_ID\n",
    "#         setup[\"keys\"][\"client_secret\"] = CLIENT_SECRET\n",
    "    \n",
    "    auth = CLIENT.create_auth(setup)\n",
    "    print(f\"Created Auth Setting {auth['meta']['name']} with id {auth['id']}\")\n",
    "    \n",
    "# Second Create Token\n",
    "if CLIENT.auths_by_tag['auth:bank_matls'] not in CLIENT.tokens_by_auth:\n",
    "    setup = {\n",
    "        'meta': {\n",
    "            'name': 'Authenticated User Access Token',\n",
    "            'domain': DOMAIN,\n",
    "            'auth_id': CLIENT.auths_by_tag['auth:bank_matls']\n",
    "        },\n",
    "        'token': {}\n",
    "    }\n",
    "    token = CLIENT.create_token(setup)\n",
    "    print(f\"Created Auth Token {token['meta']['name']} with id {token['id']}\")\n"
   ]
  },
  {
   "cell_type": "markdown",
   "metadata": {},
   "source": [
    "## Create APImetrics API helpers for setting env variables"
   ]
  },
  {
   "cell_type": "code",
   "execution_count": 54,
   "metadata": {},
   "outputs": [],
   "source": [
    "def get_set_env(tag, var_name, value):\n",
    "    body = {\"value\": value}\n",
    "    body_str = json.dumps(body)\n",
    "\n",
    "    setup = {\n",
    "        \"meta\": {\n",
    "            \"description\": None,\n",
    "            \"tags\": [\"api_type:update\", \"sector:devtools\", tag],\n",
    "            \"name\": \"APImetrics: Save {}\".format(var_name),\n",
    "            \"workspace\": \"global\",\n",
    "        },\n",
    "        \"request\": {\n",
    "            \"body\": body_str,\n",
    "            \"parameters\": [],\n",
    "            \"url\": \"https://client.apimetrics.io/api/2/environment/global/{}\".format(\n",
    "                var_name\n",
    "            ),\n",
    "            \"auth_id\": CLIENT.auths_by_tag['auth:apimetrics_api'],\n",
    "            \"headers\": [\n",
    "                {\"value\": \"application/json\", \"key\": \"Accept\"},\n",
    "                {\"value\": \"application/json\", \"key\": \"Content-Type\"},\n",
    "            ],\n",
    "            \"token_id\": CLIENT.tokens_by_auth[CLIENT.auths_by_tag['auth:apimetrics_api']],\n",
    "            \"method\": \"POST\",\n",
    "        },\n",
    "    }\n",
    "    return setup"
   ]
  },
  {
   "cell_type": "code",
   "execution_count": 55,
   "metadata": {},
   "outputs": [
    {
     "name": "stdout",
     "output_type": "stream",
     "text": [
      "Found 16 Calls\n",
      "Call tags: api_type:update, sector:devtools, apim:set_env:code, apim:set_env:refresh_token, apim:tokens:update, api_type:create, sector:financial, banks:3.1:dynamic_registration:create, ob_id:0, banks:oauth:code, banks:oauth:client_credentials, banks:oauth:refresh_token, banks:oauth:authorize, jwt:sign:dynamic_registration, api_expert:exclude, jwt:sign:authorize, ob_id:1, ob_v:3.1, banks:3.1:account-access-consents:create_max, banks:3.1:account-access-consents:create_min, api_type:delete, ob_id:3, banks:3.1:account-access-consents:delete, api_type:read, ob_id:2, banks:3.1:account-access-consents:read\n"
     ]
    }
   ],
   "source": [
    "tag = 'apim:set_env:code'\n",
    "if tag not in CLIENT.calls_by_tag:\n",
    "    setup = get_set_env(tag, 'code', '__CODE__')\n",
    "    call = CLIENT.create_call(setup)\n",
    "    print(f\"Created Call {call['meta']['name']} with id {call['id']}\")"
   ]
  },
  {
   "cell_type": "code",
   "execution_count": 56,
   "metadata": {},
   "outputs": [],
   "source": [
    "tag = 'apim:set_env:refresh_token'\n",
    "if tag not in CLIENT.calls_by_tag:\n",
    "    setup = get_set_env(tag, 'refresh_token', '__REFRESH_TOKEN__')\n",
    "    call = CLIENT.create_call(setup)\n",
    "    print(f\"Created Call {call['meta']['name']} with id {call['id']}\")"
   ]
  },
  {
   "cell_type": "markdown",
   "metadata": {},
   "source": [
    "## Create APImetrics API helper to save token"
   ]
  },
  {
   "cell_type": "code",
   "execution_count": 57,
   "metadata": {},
   "outputs": [],
   "source": [
    "tag = 'apim:tokens:update'\n",
    "if tag not in CLIENT.calls_by_tag:\n",
    "    body = {\n",
    "        \"token\": {\n",
    "            \"headers\": [\n",
    "                {\"p_key\": \"Authorization\", \"p_val\": \"Bearer %%ACCESS_TOKEN%%\"},\n",
    "            ],\n",
    "            \"expires_in\": \"%%EXPIRES_IN%%\",\n",
    "        }\n",
    "    }\n",
    "    body_str = json.dumps(body, indent=2)\n",
    "    body_str = body_str.replace('\"%%EXPIRES_IN%%\"', \"%%EXPIRES_IN%%\")\n",
    "\n",
    "    setup = {\n",
    "        \"meta\": {\n",
    "            \"tags\": [\"api_type:update\", \"sector:devtools\", tag],\n",
    "            \"name\": \"APImetrics: Update Auth Token\",\n",
    "            \"workspace\": \"global\",\n",
    "        },\n",
    "        \"request\": {\n",
    "            \"body\": body_str,\n",
    "            \"parameters\": [],\n",
    "            \"url\": \"https://client.apimetrics.io/api/2/tokens/{{apim_token_id}}/\",\n",
    "            \"auth_id\": CLIENT.auths_by_tag['auth:apimetrics_api'],\n",
    "            \"headers\": [{\"value\": \"application/json\", \"key\": \"Content-Type\"}],\n",
    "            \"token_id\": CLIENT.tokens_by_auth[CLIENT.auths_by_tag['auth:apimetrics_api']],\n",
    "            \"method\": \"POST\",\n",
    "        },\n",
    "    }\n",
    "    call = CLIENT.create_call(setup)\n",
    "    print(f\"Created Call {call['meta']['name']} with id {call['id']}\")\n",
    "    \n",
    "    # Set environment variable we use in the API\n",
    "    CLIENT.set_env_variable(\n",
    "        'global', \n",
    "        'apim_token_id', \n",
    "        CLIENT.tokens_by_auth[CLIENT.auths_by_tag['auth:bank_matls']])"
   ]
  },
  {
   "cell_type": "markdown",
   "metadata": {},
   "source": [
    "### OAuth Authorize Claims - build JWT and sign it"
   ]
  },
  {
   "cell_type": "code",
   "execution_count": 58,
   "metadata": {},
   "outputs": [],
   "source": [
    "# For user authentication\n",
    "tag = 'jwt:sign:authorize'\n",
    "if tag not in CLIENT.calls_by_tag:\n",
    "    auth_tag = 'auth:apimetrics_api'\n",
    "    auth_id = CLIENT.auths_by_tag[auth_tag]\n",
    "    token_id = CLIENT.tokens_by_auth[auth_id]\n",
    "    \n",
    "    body = {\n",
    "        \"header\": {},\n",
    "        \"payload\": {\n",
    "            \"scope\": SCOPES,\n",
    "            \"claims\": {\n",
    "                \"id_token\": {\n",
    "                    \"acr\": {\"value\": \"urn:openbanking:psd2:sca\", \"essential\": True},\n",
    "                    \"openbanking_intent_id\": {\n",
    "                        \"value\": \"%%CONSENT_ID%%\",\n",
    "                        \"essential\": True,\n",
    "                    },\n",
    "                },\n",
    "                \"userinfo\": {\n",
    "                    \"openbanking_intent_id\": {\n",
    "                        \"value\": \"%%CONSENT_ID%%\",\n",
    "                        \"essential\": True,\n",
    "                    }\n",
    "                },\n",
    "            },\n",
    "            \"response_type\": \"code id_token\",\n",
    "            \"redirect_uri\": \"{{redirect_uri}}\",\n",
    "            \"state\": \"__TEST_RUN_RESULT_ID__\",\n",
    "            \"nonce\": \"__TEST_RUN_RESULT_ID__\",\n",
    "            \"client_id\": \"{{client_id}}\",\n",
    "        },\n",
    "        \"private_key\": {\n",
    "            \"versionId\": '{{kid_cert_version}}'\n",
    "        }\n",
    "    }\n",
    "    \n",
    "    body_str = json.dumps(body, indent=2)\n",
    "    \n",
    "    setup = {\n",
    "        \"meta\": {\n",
    "            \"tags\": [\"api_type:create\", \"sector:devtools\", tag],\n",
    "            \"name\": \"Sign User Auth JWT with KMS Cert\",\n",
    "            \"workspace\": \"global\",\n",
    "        },\n",
    "        \"request\": {\n",
    "            \"body\": body_str,\n",
    "            \"parameters\": [\n",
    "                {\"value\": \"{{kid}}\", \"key\": \"kid\"},\n",
    "                {\"value\": \"RS256\", \"key\": \"alg\"},\n",
    "                {\"value\": \"{{issuer}}\", \"key\": \"aud\"},\n",
    "                {\"value\": \"{{client_id}}\", \"key\": \"iss\"},\n",
    "                {\"value\": \"10m\", \"key\": \"expiresIn\"},\n",
    "            ],\n",
    "            \"url\": \"https://us-central1-viatests.cloudfunctions.net/jwt-kms-signer\",\n",
    "            \"auth_id\": auth_id,\n",
    "            \"headers\": [\n",
    "                {\"key\": \"Accept\", \"value\": \"application/json\"},\n",
    "                {\"key\": \"Content-Type\", \"value\": \"application/json\"},\n",
    "            ],\n",
    "            \"token_id\": token_id,\n",
    "            \"method\": \"POST\",\n",
    "        },\n",
    "    }\n",
    "    call = CLIENT.create_call(setup)\n",
    "    print(f\"Created Call {call['meta']['name']} with id {call['id']}\")"
   ]
  },
  {
   "cell_type": "markdown",
   "metadata": {},
   "source": [
    "## OAuth - API calls\n",
    "### Client Credentials flow"
   ]
  },
  {
   "cell_type": "code",
   "execution_count": 59,
   "metadata": {},
   "outputs": [],
   "source": [
    "tag = 'banks:oauth:client_credentials'\n",
    "if tag not in CLIENT.calls_by_tag:\n",
    "    \n",
    "    assert 'auth:bank_matls' in CLIENT.auths_by_tag, 'Did not find a maTLS Auth Setting to use'\n",
    "    \n",
    "    headers = [{\"key\": \"Content-Type\", \"value\": \"application/x-www-form-urlencoded\"}]\n",
    "    \n",
    "    params = {\n",
    "        \"grant_type\": \"client_credentials\",\n",
    "        \"scope\": SCOPES,\n",
    "        \"client_id\": \"{{client_id}}\",\n",
    "    }\n",
    "    params_str = urllib.parse.urlencode(params)\n",
    "    \n",
    "    setup = {\n",
    "        \"meta\": {\n",
    "            \"description\": \"\",\n",
    "            \"tags\": [\"api_type:create\", \"sector:financial\", \"ob_id:0\", tag],\n",
    "            \"name\": \"OAuth: Access Token: client_credentials\",\n",
    "            \"workspace\": \"global\",\n",
    "        },\n",
    "        \"request\": {\n",
    "            \"body\": params_str,\n",
    "            \"parameters\": [],\n",
    "            \"url\": ACCESS_TOKEN_URL,\n",
    "            \"auth_id\": CLIENT.auths_by_tag['auth:bank_matls'],\n",
    "            \"headers\": headers,\n",
    "            \"token_id\": None,\n",
    "            \"method\": \"POST\",\n",
    "        },\n",
    "    }\n",
    "    call = CLIENT.create_call(setup)\n",
    "    print(f\"Created Call {call['meta']['name']} with id {call['id']}\")"
   ]
  },
  {
   "cell_type": "markdown",
   "metadata": {},
   "source": [
    "### Auth Code flow - go to user authorization page"
   ]
  },
  {
   "cell_type": "code",
   "execution_count": 60,
   "metadata": {},
   "outputs": [],
   "source": [
    "tag = 'banks:oauth:authorize'\n",
    "if tag not in CLIENT.calls_by_tag:\n",
    "    \n",
    "    headers = [{\"value\": \"*/*\", \"key\": \"Accept\"}]\n",
    "    \n",
    "    params = {\n",
    "        \"response_type\": \"code id_token\",\n",
    "        \"scope\": SCOPES,\n",
    "        \"client_id\": \"{{client_id}}\",\n",
    "        \"state\": \"__TEST_RUN_RESULT_ID__\",\n",
    "        \"nonce\": \"__TEST_RUN_RESULT_ID__\",\n",
    "        \"redirect_uri\": \"{{redirect_uri}}\",\n",
    "        \"request\": \"__JWT_TOKEN__\",\n",
    "    }\n",
    "    \n",
    "    setup = {\n",
    "        \"meta\": {\n",
    "            \"description\": \"\",\n",
    "            \"tags\": [\"api_type:create\", \"sector:financial\", \"ob_id:0\", tag],\n",
    "            \"name\": \"OAuth: Authorize\",\n",
    "            \"workspace\": \"global\",\n",
    "        },\n",
    "        \"request\": {\n",
    "            \"body\": None,\n",
    "            \"parameters\": params,\n",
    "            \"url\": AUTHORIZATION_URL,\n",
    "            \"auth_id\": CLIENT.auths_by_tag['auth:bank_matls'],\n",
    "            \"headers\": headers,\n",
    "            \"token_id\": None,\n",
    "            \"method\": \"GET\",\n",
    "        },\n",
    "    }\n",
    "    call = CLIENT.create_call(setup)\n",
    "    print(f\"Created Call {call['meta']['name']} with id {call['id']}\")"
   ]
  },
  {
   "cell_type": "markdown",
   "metadata": {},
   "source": [
    "### Auth Code flow - get access token\n",
    "\n",
    "This is the call that swaps the temporary code from the user sign in redirect URL for an access token"
   ]
  },
  {
   "cell_type": "code",
   "execution_count": 61,
   "metadata": {},
   "outputs": [],
   "source": [
    "# For auth_code flow\n",
    "tag = 'banks:oauth:code'\n",
    "if tag not in CLIENT.calls_by_tag:\n",
    "    assert 'auth:bank_matls' in CLIENT.auths_by_tag, 'Did not find a maTLS Auth Setting to use'\n",
    "    \n",
    "    headers = [{\"key\": \"Content-Type\", \"value\": \"application/x-www-form-urlencoded\"}]\n",
    "\n",
    "    params = {\n",
    "        \"grant_type\": \"authorization_code\",\n",
    "        \"code\": \"{{code}}\",\n",
    "        \"redirect_uri\": \"{{redirect_uri}}\",\n",
    "        \"client_assertion_type\": \"urn:ietf:params:oauth:client-assertion-type:jwt-bearer\",\n",
    "        \"client_assertion\": \"__JWT_TOKEN__\",\n",
    "    }\n",
    "    params_str = urllib.parse.urlencode(params)\n",
    "\n",
    "    setup = {\n",
    "        \"meta\": {\n",
    "            \"description\": \"\",\n",
    "            \"tags\": [\"api_type:create\", \"sector:financial\", \"ob_id:0\", tag],\n",
    "            \"name\": \"OAuth: Access Token: authorization_code\",\n",
    "            \"workspace\": \"global\",\n",
    "        },\n",
    "        \"request\": {\n",
    "            \"body\": params_str,\n",
    "            \"parameters\": [],\n",
    "            \"url\": ACCESS_TOKEN_URL,\n",
    "            \"auth_id\": CLIENT.auths_by_tag['auth:bank_matls'],\n",
    "            \"headers\": headers,\n",
    "            \"token_id\": None,\n",
    "            \"method\": \"POST\",\n",
    "        },\n",
    "    }\n",
    "    call = CLIENT.create_call(setup)\n",
    "    print(f\"Created Call {call['meta']['name']} with id {call['id']}\")"
   ]
  },
  {
   "cell_type": "markdown",
   "metadata": {},
   "source": [
    "### Refresh token flow"
   ]
  },
  {
   "cell_type": "code",
   "execution_count": 62,
   "metadata": {},
   "outputs": [],
   "source": [
    "# For auth_code flow\n",
    "tag = 'banks:oauth:refresh_token'\n",
    "if tag not in CLIENT.calls_by_tag:\n",
    "    assert 'auth:bank_matls' in CLIENT.auths_by_tag, 'Did not find a maTLS Auth Setting to use'\n",
    "    \n",
    "    headers = [{\"key\": \"Content-Type\", \"value\": \"application/x-www-form-urlencoded\"}]\n",
    "\n",
    "    params = {\n",
    "        \"grant_type\": \"refresh_token\",\n",
    "        \"refresh_token\": \"{{refresh_token}}\",\n",
    "        \"client_assertion_type\": \"urn:ietf:params:oauth:client-assertion-type:jwt-bearer\",\n",
    "        \"client_assertion\": \"__JWT_TOKEN__\",\n",
    "    }\n",
    "    params_str = urllib.parse.urlencode(params)\n",
    "\n",
    "    setup = {\n",
    "        \"meta\": {\n",
    "            \"description\": \"\",\n",
    "            \"tags\": [\"api_type:create\", \"sector:financial\", \"ob_id:0\", tag],\n",
    "            \"name\": \"OAuth: Access Token: refresh_token\",\n",
    "            \"workspace\": \"global\",\n",
    "        },\n",
    "        \"request\": {\n",
    "            \"body\": params_str,\n",
    "            \"parameters\": [],\n",
    "            \"url\": ACCESS_TOKEN_URL,\n",
    "            \"auth_id\": CLIENT.auths_by_tag['auth:bank_matls'],\n",
    "            \"headers\": headers,\n",
    "            \"token_id\": None,\n",
    "            \"method\": \"POST\",\n",
    "        },\n",
    "    }\n",
    "    call = CLIENT.create_call(setup)\n",
    "    print(f\"Created Call {call['meta']['name']} with id {call['id']}\")"
   ]
  },
  {
   "cell_type": "markdown",
   "metadata": {},
   "source": [
    "## Create Consent APIs to use\n",
    "\n",
    "Go to [OBIE - Account Consent APIs.ipynb](./OBIE%20-%20Account%20Consent%20APIs.ipynb) to create the consent APIs"
   ]
  },
  {
   "cell_type": "code",
   "execution_count": 63,
   "metadata": {},
   "outputs": [],
   "source": [
    "# An instance of the class that calls the APImetrics API\n",
    "CLIENT = APImetricsAPI(API_KEY)"
   ]
  },
  {
   "cell_type": "markdown",
   "metadata": {},
   "source": [
    "## Create Workflows to for User sign-in (authorize_code flow)"
   ]
  },
  {
   "cell_type": "code",
   "execution_count": 64,
   "metadata": {},
   "outputs": [
    {
     "name": "stdout",
     "output_type": "stream",
     "text": [
      "Found 3 Workflows\n",
      "Call tags: banks:3.1:account-access-consents:lifecycle, banks:3.1:dynamic_registration\n",
      "Found 16 Calls\n",
      "Call tags: api_type:update, sector:devtools, apim:set_env:code, apim:set_env:refresh_token, apim:tokens:update, api_type:create, sector:financial, banks:3.1:dynamic_registration:create, ob_id:0, banks:oauth:code, banks:oauth:client_credentials, banks:oauth:refresh_token, banks:oauth:authorize, jwt:sign:dynamic_registration, api_expert:exclude, jwt:sign:authorize, ob_id:1, ob_v:3.1, banks:3.1:account-access-consents:create_max, banks:3.1:account-access-consents:create_min, api_type:delete, ob_id:3, banks:3.1:account-access-consents:delete, api_type:read, ob_id:2, banks:3.1:account-access-consents:read\n",
      "Created Workflow [Manual] OAuth: Sign in as User (1/2) with id agpzfnZpYXRlc3RzchQLEgdUZXN0UnVuGICA6MeVzrAKDA\n"
     ]
    }
   ],
   "source": [
    "# The user sign-in flow step 1\n",
    "tag = 'banks:oauth:flow:authorize_code:1'\n",
    "if tag not in CLIENT.workflows_by_tag:\n",
    "            \n",
    "    # This is the API that generates the claims you're going to use in the Auth\n",
    "    claims_tag = 'banks:3.1:account-access-consents:create_max'\n",
    "    \n",
    "    call_tags = [\n",
    "        'banks:oauth:client_credentials',\n",
    "        claims_tag,\n",
    "        'jwt:sign:authorize',\n",
    "        'banks:oauth:authorize',\n",
    "    ]\n",
    "    for t in call_tags:\n",
    "        assert t in CLIENT.calls_by_tag, f\"API {t} does not exist\"\n",
    "    \n",
    "    setup = {\n",
    "      \"meta\": {\n",
    "        \"name\": '[Manual] OAuth: Sign in as User (1/2)', \n",
    "        \"workspace\": \"global\", \n",
    "        \"tags\": [tag], \n",
    "      }, \n",
    "      \"workflow\": {\n",
    "        \"handle_cookies\": False,\n",
    "        \"stop_on_failure\": True,\n",
    "        \"call_ids\": [CLIENT.calls_by_tag[t] for t in call_tags]\n",
    "      }\n",
    "    }\n",
    "    call = CLIENT.create_workflow(setup)\n",
    "    print(f\"Created Workflow {call['meta']['name']} with id {call['id']}\")\n"
   ]
  },
  {
   "cell_type": "code",
   "execution_count": 65,
   "metadata": {},
   "outputs": [
    {
     "name": "stdout",
     "output_type": "stream",
     "text": [
      "Found 4 Workflows\n",
      "Call tags: banks:3.1:account-access-consents:lifecycle, banks:3.1:dynamic_registration, banks:oauth:flow:authorize_code:1\n",
      "Created Workflow [Manual] OAuth: Sign in as User (2/2) with id agpzfnZpYXRlc3RzchQLEgdUZXN0UnVuGICA6KeQlpcLDA\n"
     ]
    }
   ],
   "source": [
    "# The user sign-in flow step 2\n",
    "tag = 'banks:oauth:flow:authorize_code:2'\n",
    "if tag not in CLIENT.workflows_by_tag:\n",
    "            \n",
    "    call_tags = [\n",
    "        'apim:set_env:code',  # Save OAuth Code\n",
    "        'banks:oauth:code',\n",
    "        'apim:set_env:refresh_token',\n",
    "        'apim:tokens:update',\n",
    "    ]\n",
    "    for t in call_tags:\n",
    "        assert t in CLIENT.calls_by_tag, f\"API {t} does not exist\"\n",
    "    \n",
    "    setup = {\n",
    "      \"meta\": {\n",
    "        \"name\": \"[Manual] OAuth: Sign in as User (2/2)\", \n",
    "        \"workspace\": \"global\", \n",
    "        \"tags\": [tag], \n",
    "      }, \n",
    "      \"workflow\": {\n",
    "        \"handle_cookies\": False,\n",
    "        \"stop_on_failure\": True,\n",
    "        \"call_ids\": [CLIENT.calls_by_tag[t] for t in call_tags]\n",
    "      }\n",
    "    }\n",
    "    call = CLIENT.create_workflow(setup)\n",
    "    print(f\"Created Workflow {call['meta']['name']} with id {call['id']}\")\n"
   ]
  },
  {
   "cell_type": "markdown",
   "metadata": {},
   "source": [
    "## Create Refresh token workflow"
   ]
  },
  {
   "cell_type": "code",
   "execution_count": 66,
   "metadata": {},
   "outputs": [
    {
     "name": "stdout",
     "output_type": "stream",
     "text": [
      "Found 5 Workflows\n",
      "Call tags: banks:3.1:account-access-consents:lifecycle, banks:3.1:dynamic_registration, banks:oauth:flow:authorize_code:1, banks:oauth:flow:authorize_code:2\n",
      "Created Workflow OAuth: Refresh token with id agpzfnZpYXRlc3RzchQLEgdUZXN0UnVuGICA6Oe03P0KDA\n"
     ]
    }
   ],
   "source": [
    "# A workflow to refresh our access token\n",
    "tag = 'banks:oauth:flow:refresh_token'\n",
    "if tag not in CLIENT.workflows_by_tag:\n",
    "    call_tags = [\n",
    "        'banks:oauth:refresh_token',\n",
    "        'apim:tokens:update',\n",
    "        'apim:set_env:refresh_token',\n",
    "    ]\n",
    "    for t in call_tags:\n",
    "        assert t in CLIENT.calls_by_tag, f\"API {t} does not exist\"\n",
    "\n",
    "    setup = {\n",
    "      \"meta\": {\n",
    "        \"name\": \"OAuth: Refresh token\", \n",
    "        \"workspace\": \"global\", \n",
    "        \"tags\": [tag], \n",
    "      }, \n",
    "      \"workflow\": {\n",
    "        \"handle_cookies\": False,\n",
    "        \"stop_on_failure\": True,\n",
    "        \"call_ids\": [CLIENT.calls_by_tag[t] for t in call_tags]\n",
    "      }\n",
    "    }\n",
    "    workflow = CLIENT.create_workflow(setup)\n",
    "    print(f\"Created Workflow {workflow['meta']['name']} with id {workflow['id']}\")"
   ]
  },
  {
   "cell_type": "code",
   "execution_count": null,
   "metadata": {},
   "outputs": [],
   "source": []
  }
 ],
 "metadata": {
  "kernelspec": {
   "display_name": "Python 3",
   "language": "python",
   "name": "python3"
  },
  "language_info": {
   "codemirror_mode": {
    "name": "ipython",
    "version": 3
   },
   "file_extension": ".py",
   "mimetype": "text/x-python",
   "name": "python",
   "nbconvert_exporter": "python",
   "pygments_lexer": "ipython3",
   "version": "3.8.3"
  }
 },
 "nbformat": 4,
 "nbformat_minor": 4
}
