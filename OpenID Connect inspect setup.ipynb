{
 "cells": [
  {
   "cell_type": "markdown",
   "metadata": {},
   "source": [
    "# Set up OpenID APIs\n",
    "Inspect an OpenID connect well-known JSON for the variables you need elsewhere\n"
   ]
  },
  {
   "cell_type": "code",
   "execution_count": null,
   "metadata": {},
   "outputs": [],
   "source": [
    "# Enter the .well-known URL for the auth service you want to use\n",
    "WELL_KNOWN_URL = input('Enter .well-known/openid-configuration URL') or 'https://accounts.google.com/.well-known/openid-configuration'"
   ]
  },
  {
   "cell_type": "code",
   "execution_count": null,
   "metadata": {},
   "outputs": [],
   "source": [
    "import json\n",
    "import requests\n",
    "from urllib.parse import urlparse\n",
    "\n",
    "def get_json(url):\n",
    "    resp = requests.get(url)\n",
    "    try:\n",
    "        resp.raise_for_status()\n",
    "    except Exception as ex:\n",
    "        print(resp.content)\n",
    "        raise ex\n",
    "    return resp.json()\n",
    "\n",
    "url_info = urlparse(WELL_KNOWN_URL)\n",
    "DOMAIN, _, _ = url_info.netloc.partition(':') # removes the port \n",
    "print(f\"Looking up details for {DOMAIN}\")\n",
    "\n",
    "WELL_KNOWN = get_json(WELL_KNOWN_URL)\n",
    "print(json.dumps(WELL_KNOWN, indent=2))\n"
   ]
  },
  {
   "cell_type": "code",
   "execution_count": null,
   "metadata": {},
   "outputs": [],
   "source": [
    "AUTH_METHODS = WELL_KNOWN.get('token_endpoint_auth_methods_supported', [])\n",
    "AUTHORIZATION_URL = WELL_KNOWN.get('authorization_endpoint')\n",
    "TOKEN_URL = WELL_KNOWN.get('token_endpoint')\n",
    "REGISTER_URL = WELL_KNOWN.get('registration_endpoint')\n",
    "\n",
    "print(f\"Token endpoint auth methods: {', '.join(AUTH_METHODS)}\")\n",
    "print(f\"AUTHORIZATION_URL: {AUTHORIZATION_URL}\")\n",
    "print(f\"TOKEN_URL: {TOKEN_URL}\")\n",
    "print(f\"REGISTER_URL: {REGISTER_URL}\")"
   ]
  },
  {
   "cell_type": "code",
   "execution_count": null,
   "metadata": {},
   "outputs": [],
   "source": []
  }
 ],
 "metadata": {
  "kernelspec": {
   "display_name": "Python 3",
   "language": "python",
   "name": "python3"
  },
  "language_info": {
   "codemirror_mode": {
    "name": "ipython",
    "version": 3
   },
   "file_extension": ".py",
   "mimetype": "text/x-python",
   "name": "python",
   "nbconvert_exporter": "python",
   "pygments_lexer": "ipython3",
   "version": "3.8.3"
  }
 },
 "nbformat": 4,
 "nbformat_minor": 4
}
