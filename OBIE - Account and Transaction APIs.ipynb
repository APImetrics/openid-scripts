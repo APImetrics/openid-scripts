{
 "cells": [
  {
   "cell_type": "markdown",
   "metadata": {},
   "source": [
    "# Set up Account APIs\n",
    "Running this script will create the APIs that we will be monitoring for accounts and transactions. They require user authentication. \n",
    "\n",
    "The API setups are defined with tags that allow us to easily provide OBIE metric reporting.\n",
    "\n",
    "## Requirements\n",
    "1. Create an APImetrics Project\n",
    "1. Get an API key with EDITOR permissions for the project, enter it below\n",
    "1. Get the maTLS transport certificate and key in PEM format, enter paths below\n",
    "1. Run this workbook to create all APIs\n",
    "1. Create an environment variable \"financial_id\" - TBD - add this here\n",
    "1. Create a Worfklow for the Account ID API calls - TDB - add this here\n"
   ]
  },
  {
   "cell_type": "code",
   "execution_count": null,
   "metadata": {},
   "outputs": [],
   "source": [
    "# Enter intended project's APImetrics API key here:\n",
    "API_KEY = \"\"\n",
    "\n",
    "# Enter the bank's full path, including https and without trailing /\n",
    "BANK_URL = 'https://example.com/open-banking/3.1/aisp'\n",
    "\n",
    "SSL_KEY_PATH = \"\" #\"./local/TPP_OB_Transport.key\"\n",
    "SSL_CERT_PATH = \"\" #\"./local/TTP_OB_Transport.pem\"\n",
    "\n",
    "OAUTH_METHOD = \"private_key_jwt\"\n",
    "# if OAUTH_METHOD == \"client_secret_post\" or OAUTH_METHOD == \"client_secret_basic\":\n",
    "# # CLIENT_ID = '...'\n",
    "# # CLIENT_SECRET = '...'\n",
    "\n",
    "# If you've already created the Auth, put the ID here\n",
    "AUTH_ID = \"\"\n",
    "# If you've already created the Token, put the ID here\n",
    "TOKEN_ID = \"\"\n",
    "\n",
    "# The OBIE version ID we're working against\n",
    "VERSION = \"3.1\"\n",
    "\n",
    "from urllib.parse import urlparse\n",
    "\n",
    "url_info = urlparse(BANK_URL)\n",
    "DOMAIN, _, _ = url_info.netloc.partition(':') # removes the port "
   ]
  },
  {
   "cell_type": "code",
   "execution_count": null,
   "metadata": {},
   "outputs": [],
   "source": [
    "# Helper functions\n",
    "import requests\n",
    "\n",
    "class APImetricsAPI:\n",
    "\n",
    "    BASE_URL = \"https://client.apimetrics.io/api/2\"\n",
    "    GET_HEADERS = {\"Accept\": \"application/json\"}\n",
    "    POST_HEADERS = {\"Content-Type\": \"application/json\", **GET_HEADERS}\n",
    "\n",
    "    def __init__(self, api_key):\n",
    "        self.api_key = api_key\n",
    "\n",
    "    def headers(self, is_post=False):\n",
    "        other_headers = self.POST_HEADERS if is_post else self.GET_HEADERS\n",
    "        return {\"Authorization\": \"Bearer {}\".format(self.api_key), **other_headers}\n",
    "\n",
    "    def get(self, path):\n",
    "        resp = requests.get(\n",
    "            \"{}/{path}\".format(self.BASE_URL, path=path),\n",
    "            headers=self.headers(),\n",
    "        )\n",
    "        try:\n",
    "            resp.raise_for_status()\n",
    "        except Exception as ex:\n",
    "            print(resp.content)\n",
    "            raise ex\n",
    "        return resp.json()\n",
    "\n",
    "    def post(self, path, setup):\n",
    "        resp = requests.post(\n",
    "            \"{}/{path}\".format(self.BASE_URL, path=path),\n",
    "            json=setup,\n",
    "            headers=self.headers(True),\n",
    "        )\n",
    "        try:\n",
    "            resp.raise_for_status()\n",
    "        except Exception as ex:\n",
    "            print(resp.content)\n",
    "            raise ex\n",
    "        return resp.json()\n",
    "\n",
    "    def get_auths(self):\n",
    "        return self.get(\"auth/\")\n",
    "\n",
    "    def get_calls(self):\n",
    "        return self.get(\"calls/\")\n",
    "\n",
    "    def get_schedules(self):\n",
    "        return self.get(\"schedules/\")\n",
    "\n",
    "    def get_tokens(self):\n",
    "        return self.get(\"tokens/\")\n",
    "\n",
    "    def get_token(self, id_str):\n",
    "        return self.get(\"tokens/{}\".format(id_str))\n",
    "\n",
    "    def get_tokens_for_auth(self, auth_id):\n",
    "        return self.get(\"tokens/auth/{}/\".format(auth_id))\n",
    "\n",
    "    def get_workflows(self):\n",
    "        return self.get(\"workflows\")\n",
    "\n",
    "    def create_auth(self, setup):\n",
    "        return self.post(\"auth/\", setup)\n",
    "\n",
    "    def create_call(self, setup):\n",
    "        return self.post(\"calls/\", setup)\n",
    "\n",
    "    def create_token(self, setup):\n",
    "        return self.post(\"tokens/\", setup)\n",
    "\n",
    "    def create_workflow(self, setup):\n",
    "        return self.post(\"workflows/\", setup)\n",
    "\n",
    "    def update_auth(self, id_str, setup):\n",
    "        return self.post(\"auth/{}/\".format(id_str), setup)\n",
    "\n",
    "    def update_call(self, id_str, setup):\n",
    "        return self.post(\"calls/{}/\".format(id_str), setup)\n",
    "\n",
    "    def update_token(self, id_str, setup):\n",
    "        return self.post(\"tokens/{}/\".format(id_str), setup)\n",
    "\n",
    "    def update_workflow(self, id_str, setup):\n",
    "        return self.post(\"workflows/{}/\".format(id_str), setup)\n",
    "\n",
    "    def get_env_variable(self, env, key):\n",
    "        return self.get(\"environment/{env}/{key}\".format(env=env, key=key))\n",
    "\n",
    "    def set_env_variable(self, env, key, val):\n",
    "        return self.post(\n",
    "            \"environment/{env}/{key}\".format(env=env, key=key), {\"value\": val}\n",
    "        )\n",
    "\n",
    "    def run_call(self, id_str, config):\n",
    "        return self.post(\"calls/{}/run\".format(id_str), config)\n",
    "    \n",
    "# An instance of the class that calls the APImetrics API\n",
    "CLIENT = APImetricsAPI(API_KEY)\n",
    "\n",
    "# All the account APIs share a similar setup, this is a mapping of\n",
    "# our tag to the OBIE tag, the path and the friendly name\n",
    "SETUP_MAP = {\n",
    "    \"bulk:accounts\": (4, \"/accounts\", \"Accounts: Bulk\"),\n",
    "    \"bulk:balances\": (7, \"/balances\", \"Balances: Bulk\"),\n",
    "    \"bulk:transactions\": (9, \"/transactions\", \"Transactions: Bulk\"),\n",
    "    \"bulk:beneficiaries\": (11, \"/beneficiaries\", \"Beneficiaries: Bulk\"),\n",
    "    \"bulk:directdebits\": (13, \"/direct-debits\", \"Direct-Debits: Bulk\"),\n",
    "    \"bulk:standingorders\": (15, \"/standing-orders\", \"Standing-Orders: Bulk\"),\n",
    "    \"bulk:products\": (17, \"/products\", \"Products: Bulk\"),\n",
    "    \"bulk:offers\": (19, \"/offers\", \"Offers: Bulk\"),\n",
    "    \"bulk:party\": (21, \"/party\", \"Party: Bulk\"),\n",
    "    \"bulk:scheduledpayments\": (23, \"/scheduled-payments\", \"Scheduled-Payments: Bulk\"),\n",
    "    \"bulk:statements\": (28, \"/statements\", \"Statements: Bulk\"),\n",
    "    \"account:account\": (5, \"/accounts/__ACCOUNT_ID__\", \"Accounts: Get for AccountId\"),\n",
    "    \"account:balance\": (6, \"/accounts/__ACCOUNT_ID__/balances\", \"Balances: Get for AccountId\"),\n",
    "    \"account:transactions\": (8, \"/accounts/__ACCOUNT_ID__/transactions\", \"Transactions: Get for AccountId\"),\n",
    "    \"account:beneficiaries\": (10, \"/accounts/__ACCOUNT_ID__/beneficiaries\", \"Beneficiaries: Get for AccountId\"),\n",
    "    \"account:directdebits\": (12, \"/accounts/__ACCOUNT_ID__/direct-debits\", \"Direct-Debits: Get for AccountId\"),\n",
    "    \"account:standingorders\": (14, \"/accounts/__ACCOUNT_ID__/standing-orders\", \"Standing-Orders: Get for AccountId\"),\n",
    "    \"account:product\": (16, \"/accounts/__ACCOUNT_ID__/product\", \"Product: Get for AccountId\"),\n",
    "    \"account:offers\": (18, \"/accounts/__ACCOUNT_ID__/offers\", \"Offers: Get for AccountId\"),\n",
    "    \"account:party\": (20, \"/accounts/__ACCOUNT_ID__/party\", \"Party: Get for AccountId\"),\n",
    "    \"account:scheduledpayments\": (22, \"/accounts/__ACCOUNT_ID__/scheduled-payments\", \"Scheduled-Payments: Get for AccountId\"),\n",
    "    \"account:statements\": (25, \"/accounts/__ACCOUNT_ID__/statements/__STATEMENT_ID__\", \"Statements: Get for StatementId\"),\n",
    "    \"account:statement\": (24, \"/accounts/__ACCOUNT_ID__/statements\", \"Statements: Get for AccountId\"),\n",
    "    \"account:statement_file\": (26, \"/accounts/__ACCOUNT_ID__/statements/__STATEMENT_ID__/file\", \"Statements: File for StatementId\"),\n",
    "    \"account:statement_transactions\": (27, \"/accounts/__ACCOUNT_ID__/statements/__STATEMENT_ID__/transactions\", \"Statements: Transactions for StatementId\"),\n",
    "}\n",
    "\n",
    "# Helper function - the APImetrics API setup object\n",
    "def get_call(ob_id, path, name, tag):\n",
    "    setup = {\n",
    "        \"meta\": {\n",
    "            \"description\": \"Get a list of accounts\",\n",
    "            \"tags\": [\n",
    "                \"api_type:read\",\n",
    "                \"sector:financial\",\n",
    "                \"ob_id:{}\".format(ob_id),\n",
    "                \"ob_v:{}\".format(VERSION),\n",
    "                tag,\n",
    "            ],\n",
    "            \"name\": \"v{}: {}\".format(VERSION, name),\n",
    "            \"workspace\": \"global\",\n",
    "        },\n",
    "        \"request\": {\n",
    "            \"body\": None,\n",
    "            \"parameters\": [],\n",
    "            \"url\": \"{}{}\".format(BANK_URL, path),\n",
    "            \"auth_id\": AUTH_ID,\n",
    "            \"headers\": [\n",
    "                {\"key\": \"Accept\", \"value\": \"application/json\"},\n",
    "                {\"key\": \"x-fapi-financial-id\", \"value\": \"{{financial_id}}\"},\n",
    "            ],\n",
    "            \"token_id\": TOKEN_ID,\n",
    "            \"method\": \"GET\",\n",
    "        },\n",
    "    }\n",
    "    return setup\n",
    "\n",
    "def get_call_setup(call_tag):\n",
    "    ob_id, path, name = SETUP_MAP[call_tag]\n",
    "    return get_call(ob_id, path, name, f\"bank:{VERSION}:{call_tag}\")"
   ]
  },
  {
   "cell_type": "markdown",
   "metadata": {},
   "source": [
    "## Create Auth Setting and Token for Bank"
   ]
  },
  {
   "cell_type": "code",
   "execution_count": null,
   "metadata": {},
   "outputs": [],
   "source": [
    "# First create Auth Setting\n",
    "if not AUTH_ID:\n",
    "\n",
    "    ssl_key = None\n",
    "    ssl_cert = None\n",
    "\n",
    "    if SSL_KEY_PATH:\n",
    "        with open(SSL_KEY_PATH) as stream:\n",
    "            ssl_key = stream.read()\n",
    "\n",
    "    if SSL_CERT_PATH:\n",
    "        with open(SSL_CERT_PATH) as stream:\n",
    "            ssl_cert = stream.read()\n",
    "    \n",
    "    setup = {\n",
    "        \"access\": {\n",
    "            \"keys\": False,\n",
    "            \"org_keys\": False,\n",
    "            \"org_settings\": True,\n",
    "            \"settings\": False,\n",
    "        },\n",
    "        \"keys\": {},\n",
    "        \"meta\": {\n",
    "            \"domain\": DOMAIN,\n",
    "            \"documentation\": {\"keys\": \"\", \"docs\": \"\", \"apps\": \"\", \"provider\": \"\"},\n",
    "            \"name\": \"Transport MATLS\",\n",
    "            \"tags\": ['auth:bank_matls'],\n",
    "            \"description\": \"Mutual Authenticated TLS for calls to bank APIs\",\n",
    "        },\n",
    "        \"settings\": {\n",
    "            \"auth_type\": \"MANUAL\",\n",
    "            \"ssl_key\": ssl_key,\n",
    "            \"ssl_cert\": ssl_cert,\n",
    "        },\n",
    "    }\n",
    "    if OAUTH_METHOD == \"client_secret_post\" or OAUTH_METHOD == \"client_secret_basic\":\n",
    "        setup[\"keys\"][\"client_id\"] = CLIENT_ID\n",
    "        setup[\"keys\"][\"client_secret\"] = CLIENT_SECRET\n",
    "    \n",
    "    auth = CLIENT.create_auth(setup)\n",
    "    AUTH_ID = auth['id']\n",
    "    print(f\"Created Auth Setting {auth['meta']['name']} with id {auth['id']}\")\n",
    "    \n",
    "# Second Create Token\n",
    "if not TOKEN_ID:\n",
    "    setup = {\n",
    "        'meta': {\n",
    "            'name': 'Authenticated User Access Token',\n",
    "            'domain': DOMAIN,\n",
    "            'auth_id': AUTH_ID\n",
    "        },\n",
    "        'token': {}\n",
    "    }\n",
    "    token = CLIENT.create_token(setup)\n",
    "    TOKEN_ID = token['id']\n",
    "    print(f\"Created Auth Token {token['meta']['name']} with id {token['id']}\")\n"
   ]
  },
  {
   "cell_type": "markdown",
   "metadata": {},
   "source": [
    "## Create APIs"
   ]
  },
  {
   "cell_type": "markdown",
   "metadata": {},
   "source": [
    "### Bulk APIs"
   ]
  },
  {
   "cell_type": "code",
   "execution_count": null,
   "metadata": {
    "tags": []
   },
   "outputs": [],
   "source": [
    "setup = get_call_setup(\"bulk:accounts\")\n",
    "data = CLIENT.create_call(setup)\n",
    "print(f\"Created API {data['meta']['name']} with id {data['id']}\")"
   ]
  },
  {
   "cell_type": "code",
   "execution_count": null,
   "metadata": {
    "tags": []
   },
   "outputs": [],
   "source": [
    "setup = get_call_setup(\"bulk:balances\")\n",
    "data = CLIENT.create_call(setup)\n",
    "print(f\"Created API {data['meta']['name']} with id {data['id']}\")"
   ]
  },
  {
   "cell_type": "code",
   "execution_count": null,
   "metadata": {
    "tags": []
   },
   "outputs": [],
   "source": [
    "setup = get_call_setup(\"bulk:transactions\")\n",
    "data = CLIENT.create_call(setup)\n",
    "print(f\"Created API {data['meta']['name']} with id {data['id']}\")"
   ]
  },
  {
   "cell_type": "code",
   "execution_count": null,
   "metadata": {
    "tags": []
   },
   "outputs": [],
   "source": [
    "setup = get_call_setup(\"bulk:beneficiaries\")\n",
    "data = CLIENT.create_call(setup)\n",
    "print(f\"Created API {data['meta']['name']} with id {data['id']}\")"
   ]
  },
  {
   "cell_type": "code",
   "execution_count": null,
   "metadata": {
    "tags": []
   },
   "outputs": [],
   "source": [
    "setup = get_call_setup(\"bulk:beneficiaries\")\n",
    "data = CLIENT.create_call(setup)\n",
    "print(f\"Created API {data['meta']['name']} with id {data['id']}\")"
   ]
  },
  {
   "cell_type": "code",
   "execution_count": null,
   "metadata": {
    "tags": []
   },
   "outputs": [],
   "source": [
    "setup = get_call_setup(\"bulk:directdebits\")\n",
    "data = CLIENT.create_call(setup)\n",
    "print(f\"Created API {data['meta']['name']} with id {data['id']}\")"
   ]
  },
  {
   "cell_type": "code",
   "execution_count": null,
   "metadata": {
    "tags": []
   },
   "outputs": [],
   "source": [
    "setup = get_call_setup(\"bulk:standingorders\")\n",
    "data = CLIENT.create_call(setup)\n",
    "print(f\"Created API {data['meta']['name']} with id {data['id']}\")"
   ]
  },
  {
   "cell_type": "code",
   "execution_count": null,
   "metadata": {
    "tags": []
   },
   "outputs": [],
   "source": [
    "setup = get_call_setup(\"bulk:products\")\n",
    "data = CLIENT.create_call(setup)\n",
    "print(f\"Created API {data['meta']['name']} with id {data['id']}\")"
   ]
  },
  {
   "cell_type": "code",
   "execution_count": null,
   "metadata": {
    "tags": []
   },
   "outputs": [],
   "source": [
    "setup = get_call_setup(\"bulk:offers\")\n",
    "data = CLIENT.create_call(setup)\n",
    "print(f\"Created API {data['meta']['name']} with id {data['id']}\")"
   ]
  },
  {
   "cell_type": "code",
   "execution_count": null,
   "metadata": {
    "tags": []
   },
   "outputs": [],
   "source": [
    "setup = get_call_setup(\"bulk:party\")\n",
    "data = CLIENT.create_call(setup)\n",
    "print(f\"Created API {data['meta']['name']} with id {data['id']}\")"
   ]
  },
  {
   "cell_type": "code",
   "execution_count": null,
   "metadata": {
    "tags": []
   },
   "outputs": [],
   "source": [
    "setup = get_call_setup(\"bulk:scheduledpayments\")\n",
    "data = CLIENT.create_call(setup)\n",
    "print(f\"Created API {data['meta']['name']} with id {data['id']}\")"
   ]
  },
  {
   "cell_type": "code",
   "execution_count": null,
   "metadata": {
    "tags": []
   },
   "outputs": [],
   "source": [
    "setup = get_call_setup(\"bulk:statements\")\n",
    "data = CLIENT.create_call(setup)\n",
    "print(f\"Created API {data['meta']['name']} with id {data['id']}\")"
   ]
  },
  {
   "cell_type": "markdown",
   "metadata": {},
   "source": [
    "### Account APIs"
   ]
  },
  {
   "cell_type": "code",
   "execution_count": null,
   "metadata": {
    "tags": []
   },
   "outputs": [],
   "source": [
    "setup = get_call_setup(\"account:account\")\n",
    "data = CLIENT.create_call(setup)\n",
    "print(f\"Created API {data['meta']['name']} with id {data['id']}\")"
   ]
  },
  {
   "cell_type": "code",
   "execution_count": null,
   "metadata": {
    "tags": []
   },
   "outputs": [],
   "source": [
    "setup = get_call_setup(\"account:balance\")\n",
    "data = CLIENT.create_call(setup)\n",
    "print(f\"Created API {data['meta']['name']} with id {data['id']}\")"
   ]
  },
  {
   "cell_type": "code",
   "execution_count": null,
   "metadata": {
    "tags": []
   },
   "outputs": [],
   "source": [
    "setup = get_call_setup(\"account:transactions\")\n",
    "data = CLIENT.create_call(setup)\n",
    "print(f\"Created API {data['meta']['name']} with id {data['id']}\")"
   ]
  },
  {
   "cell_type": "code",
   "execution_count": null,
   "metadata": {
    "tags": []
   },
   "outputs": [],
   "source": [
    "setup = get_call_setup(\"account:beneficiaries\")\n",
    "data = CLIENT.create_call(setup)\n",
    "print(f\"Created API {data['meta']['name']} with id {data['id']}\")"
   ]
  },
  {
   "cell_type": "code",
   "execution_count": null,
   "metadata": {
    "tags": []
   },
   "outputs": [],
   "source": [
    "setup = get_call_setup(\"account:directdebits\")\n",
    "data = CLIENT.create_call(setup)\n",
    "print(f\"Created API {data['meta']['name']} with id {data['id']}\")"
   ]
  },
  {
   "cell_type": "code",
   "execution_count": null,
   "metadata": {
    "tags": []
   },
   "outputs": [],
   "source": [
    "setup = get_call_setup(\"account:standingorders\")\n",
    "data = CLIENT.create_call(setup)\n",
    "print(f\"Created API {data['meta']['name']} with id {data['id']}\")"
   ]
  },
  {
   "cell_type": "code",
   "execution_count": null,
   "metadata": {
    "tags": []
   },
   "outputs": [],
   "source": [
    "setup = get_call_setup(\"account:product\")\n",
    "data = CLIENT.create_call(setup)\n",
    "print(f\"Created API {data['meta']['name']} with id {data['id']}\")"
   ]
  },
  {
   "cell_type": "code",
   "execution_count": null,
   "metadata": {
    "tags": []
   },
   "outputs": [],
   "source": [
    "setup = get_call_setup(\"account:offers\")\n",
    "data = CLIENT.create_call(setup)\n",
    "print(f\"Created API {data['meta']['name']} with id {data['id']}\")"
   ]
  },
  {
   "cell_type": "code",
   "execution_count": null,
   "metadata": {
    "tags": []
   },
   "outputs": [],
   "source": [
    "setup = get_call_setup(\"account:party\")\n",
    "data = CLIENT.create_call(setup)\n",
    "print(f\"Created API {data['meta']['name']} with id {data['id']}\")"
   ]
  },
  {
   "cell_type": "code",
   "execution_count": null,
   "metadata": {
    "tags": []
   },
   "outputs": [],
   "source": [
    "setup = get_call_setup(\"account:scheduledpayments\")\n",
    "data = CLIENT.create_call(setup)\n",
    "print(f\"Created API {data['meta']['name']} with id {data['id']}\")"
   ]
  },
  {
   "cell_type": "code",
   "execution_count": null,
   "metadata": {
    "tags": []
   },
   "outputs": [],
   "source": [
    "setup = get_call_setup(\"account:statements\")\n",
    "data = CLIENT.create_call(setup)\n",
    "print(f\"Created API {data['meta']['name']} with id {data['id']}\")"
   ]
  },
  {
   "cell_type": "code",
   "execution_count": null,
   "metadata": {
    "tags": []
   },
   "outputs": [],
   "source": [
    "setup = get_call_setup(\"account:statement\")\n",
    "data = CLIENT.create_call(setup)\n",
    "print(f\"Created API {data['meta']['name']} with id {data['id']}\")"
   ]
  },
  {
   "cell_type": "code",
   "execution_count": null,
   "metadata": {
    "tags": []
   },
   "outputs": [],
   "source": [
    "setup = get_call_setup(\"account:statement_file\")\n",
    "data = CLIENT.create_call(setup)\n",
    "print(f\"Created API {data['meta']['name']} with id {data['id']}\")"
   ]
  },
  {
   "cell_type": "code",
   "execution_count": null,
   "metadata": {
    "tags": []
   },
   "outputs": [],
   "source": [
    "setup = get_call_setup(\"account:statement_transactions\")\n",
    "data = CLIENT.create_call(setup)\n",
    "print(f\"Created API {data['meta']['name']} with id {data['id']}\")"
   ]
  }
 ],
 "metadata": {
  "kernelspec": {
   "display_name": "Python 3",
   "language": "python",
   "name": "python3"
  },
  "language_info": {
   "codemirror_mode": {
    "name": "ipython",
    "version": 3
   },
   "file_extension": ".py",
   "mimetype": "text/x-python",
   "name": "python",
   "nbconvert_exporter": "python",
   "pygments_lexer": "ipython3",
   "version": "3.8.3-final"
  }
 },
 "nbformat": 4,
 "nbformat_minor": 4
}