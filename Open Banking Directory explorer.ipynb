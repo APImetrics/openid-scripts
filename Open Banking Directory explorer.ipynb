{
 "cells": [
  {
   "cell_type": "markdown",
   "metadata": {},
   "source": [
    "# Open Banking Directory explorer\n",
    "Use this notebook to query the Open Banking directory for sandboxes\n",
    "\n",
    "NB: You need provide your own copy of the latest ASPSPs.json"
   ]
  },
  {
   "cell_type": "code",
   "execution_count": null,
   "metadata": {},
   "outputs": [],
   "source": [
    "from pathlib import Path\n",
    "import json\n",
    "\n",
    "aspsps_file = Path(\"./local/ASPSPs.json\")\n",
    "assert aspsps_file.is_file(), \"You need to download the data (* Fintech > OBIE > Open Banking Get ASPSPs > Results)\"\n",
    "\n",
    "aspsps = None\n",
    "with aspsps_file.open('r') as handle:\n",
    "    data = handle.read()\n",
    "    aspsps = json.loads(data)\n",
    "\n",
    "resources = [resource for resource in aspsps['Resources']]"
   ]
  },
  {
   "cell_type": "code",
   "execution_count": null,
   "metadata": {},
   "outputs": [],
   "source": [
    "print('List of ASPSPs that are active:')\n",
    "count = 0\n",
    "for resource in resources:\n",
    "    name = resource['urn:openbanking:organisation:1.0']['OrganisationCommonName']\n",
    "    ob_id = resource['urn:openbanking:organisation:1.0']['OBOrganisationId']\n",
    "    has_auth = 'AuthorisationServers' in resource\n",
    "    is_active = any(auth['Active'] for auth in resource[\"urn:openbanking:competentauthorityclaims:1.0\"]['Authorisations'])\n",
    "    \n",
    "    if is_active:\n",
    "        print(ob_id,'\\t', name, '\\t', has_auth)\n",
    "        count += 1\n",
    "\n",
    "print(count, ' banks')"
   ]
  },
  {
   "cell_type": "code",
   "execution_count": null,
   "metadata": {},
   "outputs": [],
   "source": [
    "print('List of ASPSPs that are active and have an Authorisation Server defined:')\n",
    "count = 0\n",
    "for resource in resources:\n",
    "    name = resource['urn:openbanking:organisation:1.0']['OrganisationCommonName']\n",
    "    ob_id = resource['urn:openbanking:organisation:1.0']['OBOrganisationId']\n",
    "    has_auth = 'AuthorisationServers' in resource\n",
    "    is_active = any(auth['Active'] for auth in resource[\"urn:openbanking:competentauthorityclaims:1.0\"]['Authorisations'])\n",
    "    \n",
    "    if is_active and has_auth:\n",
    "        for auth in resource['AuthorisationServers']:\n",
    "            friendly_name = auth.get('CustomerFriendlyName')\n",
    "            portal_url = auth.get('DeveloperPortalUri')\n",
    "            config_url = auth.get('OpenIDConfigEndPointUri')\n",
    "            \n",
    "            print(f\"{ob_id}\\t{friendly_name}\\t{portal_url}\\t{config_url}\\t({name})\")\n",
    "            count += 1\n",
    "\n",
    "print(count, ' Auth servers')"
   ]
  },
  {
   "cell_type": "code",
   "execution_count": null,
   "metadata": {},
   "outputs": [],
   "source": [
    "import requests\n",
    "\n",
    "print('List of ASPSPs that are active and have an Authorisation Server defined:')\n",
    "count = 0\n",
    "for resource in resources:\n",
    "    name = resource['urn:openbanking:organisation:1.0']['OrganisationCommonName']\n",
    "    ob_id = resource['urn:openbanking:organisation:1.0']['OBOrganisationId']\n",
    "    has_auth = 'AuthorisationServers' in resource\n",
    "    is_active = any(auth['Active'] for auth in resource[\"urn:openbanking:competentauthorityclaims:1.0\"]['Authorisations'])\n",
    "    \n",
    "    if is_active and has_auth:\n",
    "        for auth in resource['AuthorisationServers']:\n",
    "            friendly_name = auth.get('CustomerFriendlyName')\n",
    "            portal_url = auth.get('DeveloperPortalUri')\n",
    "            config_url = auth.get('OpenIDConfigEndPointUri')\n",
    "            \n",
    "            auth_methods = []\n",
    "            auth_url = None\n",
    "            token_url = None\n",
    "            register_url = None\n",
    "            if config_url:\n",
    "                try:\n",
    "                    resp = requests.get(config_url, timeout=5)\n",
    "                    resp.raise_for_status()\n",
    "                    config = resp.json()\n",
    "                    auth_methods = config.get('token_endpoint_auth_methods_supported', [])\n",
    "                    auth_url = config.get('authorization_endpoint')\n",
    "                    token_url = config.get('token_endpoint')\n",
    "                    register_url = config.get('registration_endpoint')\n",
    "                except Exception as ex: \n",
    "                    pass # print(ex)\n",
    "            \n",
    "            print(f\"{ob_id}\\t{friendly_name}\\t{portal_url}\\t{len(auth_methods)}\\t{'Y' if register_url else 'N'}\\t{'Y' if auth_url else 'N'}\\t{'Y' if token_url else 'N'}\\t{name}\\t{config_url}\")\n",
    "            count += 1\n",
    "\n",
    "print(count, ' Auth servers')"
   ]
  },
  {
   "cell_type": "code",
   "execution_count": null,
   "metadata": {},
   "outputs": [],
   "source": []
  }
 ],
 "metadata": {
  "kernelspec": {
   "display_name": "Python 3",
   "language": "python",
   "name": "python3"
  },
  "language_info": {
   "codemirror_mode": {
    "name": "ipython",
    "version": 3
   },
   "file_extension": ".py",
   "mimetype": "text/x-python",
   "name": "python",
   "nbconvert_exporter": "python",
   "pygments_lexer": "ipython3",
   "version": "3.8.3"
  }
 },
 "nbformat": 4,
 "nbformat_minor": 4
}
